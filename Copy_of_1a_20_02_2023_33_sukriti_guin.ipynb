{
  "nbformat": 4,
  "nbformat_minor": 0,
  "metadata": {
    "colab": {
      "provenance": [],
      "authorship_tag": "ABX9TyNGAuh0IjCT+kFIBbJyFuvQ",
      "include_colab_link": true
    },
    "kernelspec": {
      "name": "python3",
      "display_name": "Python 3"
    },
    "language_info": {
      "name": "python"
    }
  },
  "cells": [
    {
      "cell_type": "markdown",
      "metadata": {
        "id": "view-in-github",
        "colab_type": "text"
      },
      "source": [
        "<a href=\"https://colab.research.google.com/github/sukritiguin/ML/blob/main/Copy_of_1a_20_02_2023_33_sukriti_guin.ipynb\" target=\"_parent\"><img src=\"https://colab.research.google.com/assets/colab-badge.svg\" alt=\"Open In Colab\"/></a>"
      ]
    },
    {
      "cell_type": "markdown",
      "source": [
        "# **Computer Network Lab**\n",
        "\n",
        "**Sukriti Guin**\n",
        "\n",
        "*ECE 3A*\n",
        "\n",
        "*Roll : 33*"
      ],
      "metadata": {
        "id": "spbPDRqz-mIf"
      }
    },
    {
      "cell_type": "markdown",
      "source": [
        "# Class Work : Day 1"
      ],
      "metadata": {
        "id": "z1sNe6zc6F3y"
      }
    },
    {
      "cell_type": "markdown",
      "source": [
        "### Write python code to take variousvariable and perform various mathematical operations"
      ],
      "metadata": {
        "id": "777TdyGM6Jkw"
      }
    },
    {
      "cell_type": "code",
      "execution_count": null,
      "metadata": {
        "id": "MQsn63_mrQ3s",
        "colab": {
          "base_uri": "https://localhost:8080/"
        },
        "outputId": "686e96a3-9a1f-4a8f-ae44-9b6f8ad6a48c"
      },
      "outputs": [
        {
          "output_type": "stream",
          "name": "stdout",
          "text": [
            "a+b:  23\n",
            "a-b:  17\n",
            "Integer: a//b :  6\n",
            "Float: a/b :  6.666666666666667\n",
            "a*b :  60\n"
          ]
        }
      ],
      "source": [
        "a,b = 20, 3\n",
        "print(\"a+b: \",a+b)\n",
        "print(\"a-b: \",a-b)\n",
        "print(\"Integer: a//b : \",a//b)\n",
        "print(\"Float: a/b : \",a/b)\n",
        "print(\"a*b : \",a*b)"
      ]
    },
    {
      "cell_type": "markdown",
      "source": [
        "### Take two user defined string and do concatination"
      ],
      "metadata": {
        "id": "_IDXrMh365aT"
      }
    },
    {
      "cell_type": "code",
      "source": [
        "s1 = input(\"Enter string 1: \")\n",
        "s2 = input(\"Enter string 2: \")\n",
        "print(s1 + \" \" + s2)"
      ],
      "metadata": {
        "id": "SqhmZ5esrmsB",
        "colab": {
          "base_uri": "https://localhost:8080/"
        },
        "outputId": "d382aa47-624c-4913-f45e-39aa692b0793"
      },
      "execution_count": null,
      "outputs": [
        {
          "output_type": "stream",
          "name": "stdout",
          "text": [
            "Enter string 1: Sukriti\n",
            "Enter string 2: Guin\n",
            "Sukriti Guin\n"
          ]
        }
      ]
    },
    {
      "cell_type": "markdown",
      "source": [
        "### Take 10 user defined number and sort according to ascending and descending"
      ],
      "metadata": {
        "id": "O5TGKnyb7JPd"
      }
    },
    {
      "cell_type": "code",
      "source": [
        "lst = []\n",
        "\n",
        "numbers = input(\"Enter 10 space seperated numbers : \")\n",
        "lst = [int(i) for i in numbers.split()]\n",
        "\n",
        "\n",
        "def sort(lst,ascending=True):\n",
        "    l = len(lst)\n",
        "    for i in range(l):\n",
        "        for j in range(l-1):\n",
        "            if lst[j]>lst[j+1]:\n",
        "                lst[j], lst[j+1] = lst[j+1], lst[j]\n",
        "    if not ascending:lst.reverse()\n",
        "    return lst\n",
        "\n",
        "sort(lst)\n",
        "print(lst)"
      ],
      "metadata": {
        "colab": {
          "base_uri": "https://localhost:8080/"
        },
        "id": "zusK_OpF7Go_",
        "outputId": "0f094b34-fd6a-4a51-aeaf-645a09ce4a99"
      },
      "execution_count": null,
      "outputs": [
        {
          "output_type": "stream",
          "name": "stdout",
          "text": [
            "Enter 10 space seperated numbers : 10 2 5 4 6 7 8 6 9 10\n",
            "[2, 4, 5, 6, 6, 7, 8, 9, 10, 10]\n"
          ]
        }
      ]
    },
    {
      "cell_type": "markdown",
      "source": [
        "### Take another list of 5 numbers and insert number to the previous list according to position."
      ],
      "metadata": {
        "id": "0eB3dKnk8_wk"
      }
    },
    {
      "cell_type": "code",
      "source": [
        "L = [2,5,3,4,7]\n",
        "pos = -1\n",
        "for num in L:\n",
        "    for i in range(len(lst)):\n",
        "        if lst[i]>num:\n",
        "            pos=i\n",
        "            break\n",
        "    if pos==-1:\n",
        "        lst.append(num)\n",
        "    else:\n",
        "        lst = lst[:pos] + [num] + lst[pos:]\n",
        "print(lst)"
      ],
      "metadata": {
        "colab": {
          "base_uri": "https://localhost:8080/"
        },
        "id": "otvMfUpP8_aL",
        "outputId": "1c6e430c-1044-46b5-83d4-5ae74c2d73cc"
      },
      "execution_count": null,
      "outputs": [
        {
          "output_type": "stream",
          "name": "stdout",
          "text": [
            "[2, 2, 3, 4, 4, 5, 5, 6, 6, 7, 7, 8, 9, 10, 10]\n"
          ]
        }
      ]
    },
    {
      "cell_type": "markdown",
      "source": [
        "### Perform GCD for two numbers"
      ],
      "metadata": {
        "id": "MLVKjpI395Ih"
      }
    },
    {
      "cell_type": "code",
      "source": [
        "def gcd(a,b):return a if b==0 else gcd(b,a%b)\n",
        "gcd(16,24)"
      ],
      "metadata": {
        "colab": {
          "base_uri": "https://localhost:8080/"
        },
        "id": "TxkZvsh_941g",
        "outputId": "70e1e002-190e-46d0-dbb0-dc66956810ab"
      },
      "execution_count": null,
      "outputs": [
        {
          "output_type": "execute_result",
          "data": {
            "text/plain": [
              "8"
            ]
          },
          "metadata": {},
          "execution_count": 139
        }
      ]
    },
    {
      "cell_type": "markdown",
      "source": [
        "# Home Work : Day 1\n",
        "\n",
        "## Selection Sort, Quick Sort, Merge Sort24\n"
      ],
      "metadata": {
        "id": "2u2B4PdurmVz"
      }
    },
    {
      "cell_type": "code",
      "source": [
        "class Sort:\n",
        "    def __init__(self):pass\n",
        "    def selection_sort(arr,ascending=True):\n",
        "        n = len(arr)\n",
        "        for i in range(n):\n",
        "            # Find the minimum element in the unsorted part of the array\n",
        "            min_idx = i\n",
        "            for j in range(i+1, n):\n",
        "                if arr[j] < arr[min_idx]:\n",
        "                    min_idx = j\n",
        "            \n",
        "            # Swap the minimum element with the first element in the unsorted part\n",
        "            arr[i], arr[min_idx] = arr[min_idx], arr[i]\n",
        "        if not ascending:arr.reverse()\n",
        "        return arr\n",
        "    \n",
        "    def quickSort(arr,low,high,ascending=True):\n",
        "        def partition(array, low, high):\n",
        "            pivot = array[high]\n",
        "            i = low - 1\n",
        "            for j in range(low, high):\n",
        "                if array[j] <= pivot:\n",
        "                    i = i + 1\n",
        "                    (array[i], array[j]) = (array[j], array[i])\n",
        "            (array[i + 1], array[high]) = (array[high], array[i + 1])\n",
        "            return i + 1\n",
        "        \n",
        "        def qsort(arr,low,high):\n",
        "            if low<high:\n",
        "                pidx = partition(arr,low,high)\n",
        "                qsort(arr,low,pidx-1)\n",
        "                qsort(arr,pidx+1,high)\n",
        "        \n",
        "        qsort(arr,low,high)\n",
        "        if not ascending:arr.reverse()\n",
        "\n",
        "    \n",
        "    def merge_sort(arr,ascending=True):\n",
        "        def merge(left_half, right_half):\n",
        "            result = []\n",
        "\n",
        "            while len(left_half) > 0 and len(right_half) > 0:\n",
        "                if left_half[0] < right_half[0]:\n",
        "                    result.append(left_half[0])\n",
        "                    left_half = left_half[1:]\n",
        "                else:\n",
        "                    result.append(right_half[0])\n",
        "                    right_half = right_half[1:]\n",
        "\n",
        "            result += left_half\n",
        "            result += right_half\n",
        "\n",
        "            return result\n",
        "\n",
        "\n",
        "        def m_sort(arr):\n",
        "            if len(arr) <= 1:\n",
        "                return arr\n",
        "\n",
        "            mid = len(arr) // 2\n",
        "            left_half = arr[:mid]\n",
        "            right_half = arr[mid:]\n",
        "\n",
        "            left_half = m_sort(left_half)\n",
        "            right_half = m_sort(right_half)\n",
        "\n",
        "            return merge(left_half, right_half)\n",
        "        \n",
        "        sorted = m_sort(arr)\n",
        "        if not ascending:sorted.reverse()\n",
        "        return sorted"
      ],
      "metadata": {
        "id": "6et9BK75pN5h"
      },
      "execution_count": null,
      "outputs": []
    },
    {
      "cell_type": "code",
      "source": [
        "sort = Sort"
      ],
      "metadata": {
        "id": "g84ztXocpvV1"
      },
      "execution_count": null,
      "outputs": []
    },
    {
      "cell_type": "code",
      "source": [
        "sort.selection_sort(arr=[5,6,8,2,7,9,10,57,42,65,78,21,20,10,8,2])"
      ],
      "metadata": {
        "colab": {
          "base_uri": "https://localhost:8080/"
        },
        "id": "NWEg785fpvVB",
        "outputId": "b6a79110-b39c-4192-875b-693556ca69f7"
      },
      "execution_count": null,
      "outputs": [
        {
          "output_type": "execute_result",
          "data": {
            "text/plain": [
              "[2, 2, 5, 6, 7, 8, 8, 9, 10, 10, 20, 21, 42, 57, 65, 78]"
            ]
          },
          "metadata": {},
          "execution_count": 107
        }
      ]
    },
    {
      "cell_type": "code",
      "source": [
        "sort.selection_sort(arr=[5,6,8,2,7,9,10,57,42,65,78,21,20,10,8,2],ascending=False)"
      ],
      "metadata": {
        "colab": {
          "base_uri": "https://localhost:8080/"
        },
        "id": "v4vO2er4pvQg",
        "outputId": "9d9d12ec-16d9-4f4f-e79c-c683779f1282"
      },
      "execution_count": null,
      "outputs": [
        {
          "output_type": "execute_result",
          "data": {
            "text/plain": [
              "[78, 65, 57, 42, 21, 20, 10, 10, 9, 8, 8, 7, 6, 5, 2, 2]"
            ]
          },
          "metadata": {},
          "execution_count": 108
        }
      ]
    },
    {
      "cell_type": "code",
      "source": [
        "arr = [5,6,8,2,7,9,10,57,42,65,78,21,20,10,8,2]\n",
        "sort.quickSort(arr,0,len(arr)-1)\n",
        "arr"
      ],
      "metadata": {
        "colab": {
          "base_uri": "https://localhost:8080/"
        },
        "id": "cGw2kwyhqQTv",
        "outputId": "5cc8a14f-b337-470d-fe80-275de839ecf4"
      },
      "execution_count": null,
      "outputs": [
        {
          "output_type": "execute_result",
          "data": {
            "text/plain": [
              "[2, 2, 5, 6, 7, 8, 8, 9, 10, 10, 20, 21, 42, 57, 65, 78]"
            ]
          },
          "metadata": {},
          "execution_count": 109
        }
      ]
    },
    {
      "cell_type": "code",
      "source": [
        "arr = [5,6,8,2,7,9,10,57,42,65,78,21,20,10,8,2]\n",
        "sort.quickSort(arr,0,len(arr)-1,ascending=False)\n",
        "arr"
      ],
      "metadata": {
        "colab": {
          "base_uri": "https://localhost:8080/"
        },
        "id": "2X2GLmuupvPm",
        "outputId": "a9d12e72-33b0-47ee-b6cb-c511a59c755a"
      },
      "execution_count": null,
      "outputs": [
        {
          "output_type": "execute_result",
          "data": {
            "text/plain": [
              "[78, 65, 57, 42, 21, 20, 10, 10, 9, 8, 8, 7, 6, 5, 2, 2]"
            ]
          },
          "metadata": {},
          "execution_count": 110
        }
      ]
    },
    {
      "cell_type": "code",
      "source": [
        "sort.merge_sort(arr= [5,6,8,2,7,9,10,57,42,65,78,21,20,10,8,2])"
      ],
      "metadata": {
        "colab": {
          "base_uri": "https://localhost:8080/"
        },
        "id": "3K0gtancqWZ4",
        "outputId": "b1a61c1f-3d50-410c-cf4b-4f52295e9712"
      },
      "execution_count": null,
      "outputs": [
        {
          "output_type": "execute_result",
          "data": {
            "text/plain": [
              "[2, 2, 5, 6, 7, 8, 8, 9, 10, 10, 20, 21, 42, 57, 65, 78]"
            ]
          },
          "metadata": {},
          "execution_count": 111
        }
      ]
    },
    {
      "cell_type": "code",
      "source": [
        "sort.merge_sort(arr= [5,6,8,2,7,9,10,57,42,65,78,21,20,10,8,2],ascending=False)"
      ],
      "metadata": {
        "colab": {
          "base_uri": "https://localhost:8080/"
        },
        "id": "OiUrztDqqWZD",
        "outputId": "930b2fad-6282-4bf5-e024-498111a715f6"
      },
      "execution_count": null,
      "outputs": [
        {
          "output_type": "execute_result",
          "data": {
            "text/plain": [
              "[78, 65, 57, 42, 21, 20, 10, 10, 9, 8, 8, 7, 6, 5, 2, 2]"
            ]
          },
          "metadata": {},
          "execution_count": 112
        }
      ]
    },
    {
      "cell_type": "markdown",
      "source": [
        "## Binary Calculator : AND, OR, XOR, ADD, SUB, MULT, DIV"
      ],
      "metadata": {
        "id": "WvLQpont-PKW"
      }
    },
    {
      "cell_type": "code",
      "source": [
        "class BinaryCalculator:\n",
        "    def __init__(self):pass\n",
        "    def binary_addition(a, b):\n",
        "        # Step 1: Pad the shorter string with zeros\n",
        "        diff = len(a) - len(b)\n",
        "        if diff > 0:\n",
        "            b = '0' * diff + b\n",
        "        elif diff < 0:\n",
        "            a = '0' * (-diff) + a\n",
        "\n",
        "        # Step 2: Perform the addition\n",
        "        result = ''\n",
        "        carry = 0\n",
        "        for i in range(len(a) - 1, -1, -1):\n",
        "            x = int(a[i])\n",
        "            y = int(b[i])\n",
        "            sum = x + y + carry\n",
        "            if sum >= 2:\n",
        "                sum -= 2\n",
        "                carry = 1\n",
        "            else:\n",
        "                carry = 0\n",
        "            result = str(sum) + result\n",
        "\n",
        "        # Step 3: Add any remaining carry as an extra bit\n",
        "        if carry == 1:\n",
        "            result = '1' + result\n",
        "\n",
        "        # Step 4: Return the result\n",
        "        return result\n",
        "    \n",
        "    def binary_subtraction(a, b):\n",
        "        # Step 1: Pad the shorter string with zeros\n",
        "        diff = len(a) - len(b)\n",
        "        if diff > 0:\n",
        "            b = '0' * diff + b\n",
        "        elif diff < 0:\n",
        "            a = '0' * (-diff) + a\n",
        "\n",
        "        # Step 2: Perform the subtraction\n",
        "        result = ''\n",
        "        borrow = 0\n",
        "        for i in range(len(a) - 1, -1, -1):\n",
        "            x = int(a[i])\n",
        "            y = int(b[i])\n",
        "            diff = x - y - borrow\n",
        "            if diff < 0:\n",
        "                diff += 2\n",
        "                borrow = 1\n",
        "            else:\n",
        "                borrow = 0\n",
        "            result = str(diff) + result\n",
        "\n",
        "        # Step 3: Remove any leading zeros\n",
        "        result = result.lstrip('0')\n",
        "\n",
        "        # Step 4: Return the result\n",
        "        if result == '':\n",
        "            return '0'\n",
        "        else:\n",
        "            return result\n",
        "\n",
        "    def binary_multiplication(a,b):\n",
        "        if(len(a)>len(b)):\n",
        "            b = \"0\"*(len(a)-len(b)) + b\n",
        "        else:\n",
        "            a = \"0\"*(len(b)-len(a)) + a\n",
        "\n",
        "        ans = \"0\"*len(a)\n",
        "        for i in range(len(a)-1,-1,-1):\n",
        "            if b[i]=='0':\n",
        "                temp = \"0\"*len(a) + \"0\"*(len(a)-1-i)\n",
        "                temp_ans = \"0\"+ans\n",
        "                ans = binary_addition(temp,temp_ans)\n",
        "            else:\n",
        "                temp = a + \"0\"*(len(a)-1-i)\n",
        "                temp_ans = \"0\"+ans\n",
        "                ans = binary_addition(temp,temp_ans)\n",
        "        \n",
        "        return ans.lstrip('0')\n",
        "\n",
        "    def binary_and(a, b):\n",
        "        max_len = max(len(a), len(b))\n",
        "        a = a.zfill(max_len)\n",
        "        b = b.zfill(max_len)\n",
        "        result = \"\"\n",
        "        for i in range(max_len):\n",
        "            if a[i] == \"1\" and b[i] == \"1\":\n",
        "                result += \"1\"\n",
        "            else:\n",
        "                result += \"0\"\n",
        "        return result\n",
        "\n",
        "    def binary_or(a, b):\n",
        "        max_len = max(len(a), len(b))\n",
        "        a = a.zfill(max_len)\n",
        "        b = b.zfill(max_len)\n",
        "        result = \"\"\n",
        "        for i in range(max_len):\n",
        "            if a[i] == \"1\" or b[i] == \"1\":\n",
        "                result += \"1\"\n",
        "            else:\n",
        "                result += \"0\"\n",
        "        return result\n",
        "\n",
        "    def binary_xor(a, b):\n",
        "        max_len = max(len(a), len(b))\n",
        "        a = a.zfill(max_len)\n",
        "        b = b.zfill(max_len)\n",
        "        result = \"\"\n",
        "        for i in range(max_len):\n",
        "            if a[i] != b[i]:\n",
        "                result += \"1\"\n",
        "            else:\n",
        "                result += \"0\"\n",
        "        return result\n",
        "\n",
        "\n",
        "\n",
        "\n",
        "    def binary_division(dividend, divisor):\n",
        "        def binary_compare(a, b):\n",
        "            \"\"\"\n",
        "            Compares two binary numbers a and b and returns:\n",
        "            1 if a > b\n",
        "            0 if a == b\n",
        "            -1 if a < b\n",
        "            \"\"\"\n",
        "            # Pad the shorter string with zeros\n",
        "            diff = len(a) - len(b)\n",
        "            if diff > 0:\n",
        "                b = '0' * diff + b\n",
        "            elif diff < 0:\n",
        "                a = '0' * (-diff) + a\n",
        "\n",
        "            # Compare the two numbers bit by bit\n",
        "            for i in range(len(a)):\n",
        "                if a[i] > b[i]:\n",
        "                    return 1\n",
        "                elif a[i] < b[i]:\n",
        "                    return -1\n",
        "\n",
        "            # If we reach this point, the two numbers are equal\n",
        "            return 0\n",
        "        quotient = ''\n",
        "        remainder = ''\n",
        "        for i in range(len(dividend)):\n",
        "            remainder += dividend[i]\n",
        "            if binary_compare(remainder, divisor) >= 0:\n",
        "                remainder = binary_subtraction(remainder, divisor)\n",
        "                quotient += '1'\n",
        "            else:\n",
        "                quotient += '0'\n",
        "        # remove any leading zeros from the quotient\n",
        "        quotient = quotient.lstrip('0')\n",
        "        # if the quotient is empty, return '0'\n",
        "        if quotient == '':\n",
        "            quotient = '0'\n",
        "        return quotient, remainder"
      ],
      "metadata": {
        "id": "4KUaebHMeZXq"
      },
      "execution_count": null,
      "outputs": []
    },
    {
      "cell_type": "code",
      "source": [
        "bc = BinaryCalculator"
      ],
      "metadata": {
        "id": "6oc3tMEWfIOb"
      },
      "execution_count": null,
      "outputs": []
    },
    {
      "cell_type": "code",
      "source": [
        "bc.binary_division(\"1110\",\"101\")"
      ],
      "metadata": {
        "colab": {
          "base_uri": "https://localhost:8080/"
        },
        "id": "fjoM3m2ZGzF1",
        "outputId": "0e1444f7-6ba0-4675-fe05-fa5387a34534"
      },
      "execution_count": null,
      "outputs": [
        {
          "output_type": "execute_result",
          "data": {
            "text/plain": [
              "('10', '100')"
            ]
          },
          "metadata": {},
          "execution_count": 158
        }
      ]
    },
    {
      "cell_type": "code",
      "source": [
        "bc.binary_division(\"1110\",\"11\")"
      ],
      "metadata": {
        "colab": {
          "base_uri": "https://localhost:8080/"
        },
        "id": "eeBVaScHJCH4",
        "outputId": "44af2ce0-4bca-42c5-e830-c1e02ea97b5b"
      },
      "execution_count": null,
      "outputs": [
        {
          "output_type": "execute_result",
          "data": {
            "text/plain": [
              "('100', '010')"
            ]
          },
          "metadata": {},
          "execution_count": 159
        }
      ]
    },
    {
      "cell_type": "code",
      "source": [
        "bc.binary_addition(\"101101\",\"1110101\")"
      ],
      "metadata": {
        "colab": {
          "base_uri": "https://localhost:8080/",
          "height": 35
        },
        "id": "CosvK2lQfMCS",
        "outputId": "ef4a5fcd-e27e-4bba-ff16-dee91fa3d101"
      },
      "execution_count": null,
      "outputs": [
        {
          "output_type": "execute_result",
          "data": {
            "text/plain": [
              "'10100010'"
            ],
            "application/vnd.google.colaboratory.intrinsic+json": {
              "type": "string"
            }
          },
          "metadata": {},
          "execution_count": 115
        }
      ]
    },
    {
      "cell_type": "code",
      "source": [
        "bc.binary_subtraction(\"101101\",\"1110101\")"
      ],
      "metadata": {
        "colab": {
          "base_uri": "https://localhost:8080/",
          "height": 35
        },
        "id": "o1wd0YFWfbV1",
        "outputId": "a9be96ff-18f9-4028-a5ea-5f6758ebb4bc"
      },
      "execution_count": null,
      "outputs": [
        {
          "output_type": "execute_result",
          "data": {
            "text/plain": [
              "'111000'"
            ],
            "application/vnd.google.colaboratory.intrinsic+json": {
              "type": "string"
            }
          },
          "metadata": {},
          "execution_count": 116
        }
      ]
    },
    {
      "cell_type": "code",
      "source": [
        "bc.binary_multiplication(\"101101\",\"1110101\")"
      ],
      "metadata": {
        "colab": {
          "base_uri": "https://localhost:8080/",
          "height": 35
        },
        "id": "9xxFni-cfRMF",
        "outputId": "3039de07-86e1-4947-f0b3-c5ce7d2a5e1c"
      },
      "execution_count": null,
      "outputs": [
        {
          "output_type": "execute_result",
          "data": {
            "text/plain": [
              "'1010010010001'"
            ],
            "application/vnd.google.colaboratory.intrinsic+json": {
              "type": "string"
            }
          },
          "metadata": {},
          "execution_count": 117
        }
      ]
    },
    {
      "cell_type": "code",
      "source": [
        "bc.binary_and(\"101101\",\"1110101\")"
      ],
      "metadata": {
        "colab": {
          "base_uri": "https://localhost:8080/",
          "height": 35
        },
        "id": "X1HZSQXOfaZj",
        "outputId": "ad319014-3e97-4d0a-abca-565f8036704e"
      },
      "execution_count": null,
      "outputs": [
        {
          "output_type": "execute_result",
          "data": {
            "text/plain": [
              "'0100101'"
            ],
            "application/vnd.google.colaboratory.intrinsic+json": {
              "type": "string"
            }
          },
          "metadata": {},
          "execution_count": 118
        }
      ]
    },
    {
      "cell_type": "code",
      "source": [
        "bc.binary_or(\"101101\",\"1110101\")"
      ],
      "metadata": {
        "colab": {
          "base_uri": "https://localhost:8080/",
          "height": 35
        },
        "id": "5V0cevE7fgOb",
        "outputId": "c7eef863-f62f-4bea-851c-ac4ba85aa467"
      },
      "execution_count": null,
      "outputs": [
        {
          "output_type": "execute_result",
          "data": {
            "text/plain": [
              "'1111101'"
            ],
            "application/vnd.google.colaboratory.intrinsic+json": {
              "type": "string"
            }
          },
          "metadata": {},
          "execution_count": 119
        }
      ]
    },
    {
      "cell_type": "code",
      "source": [
        "bc.binary_xor(\"101101\",\"1110101\")"
      ],
      "metadata": {
        "colab": {
          "base_uri": "https://localhost:8080/",
          "height": 35
        },
        "id": "XbL9ywtCfiDp",
        "outputId": "afe7722a-8253-42e2-c7ea-996eb1616766"
      },
      "execution_count": null,
      "outputs": [
        {
          "output_type": "execute_result",
          "data": {
            "text/plain": [
              "'1011000'"
            ],
            "application/vnd.google.colaboratory.intrinsic+json": {
              "type": "string"
            }
          },
          "metadata": {},
          "execution_count": 120
        }
      ]
    },
    {
      "cell_type": "code",
      "source": [],
      "metadata": {
        "id": "tpSARVvn1Jpf"
      },
      "execution_count": null,
      "outputs": []
    },
    {
      "cell_type": "code",
      "source": [],
      "metadata": {
        "id": "JXxMMZ_n5xyS"
      },
      "execution_count": null,
      "outputs": []
    }
  ]
}