{
  "nbformat": 4,
  "nbformat_minor": 0,
  "metadata": {
    "colab": {
      "provenance": []
    },
    "kernelspec": {
      "name": "python3",
      "display_name": "Python 3"
    },
    "language_info": {
      "name": "python"
    }
  },
  "cells": [
    {
      "cell_type": "code",
      "execution_count": 46,
      "metadata": {
        "id": "hasBj4vNlXRG"
      },
      "outputs": [],
      "source": [
        "import numpy as np\n",
        "\n",
        "class MultipleLinearRegression():\n",
        "    def __init__(self):\n",
        "        self.coefficient = None\n",
        "        self.intercept = None\n",
        "\n",
        "    def fit(self, X_train, y_train):\n",
        "        X_train = np.insert(X_train,0,1,axis=1)\n",
        "        beta = np.linalg.inv(np.dot(X_train.T,X_train)).dot(X_train.T).dot(y_train)\n",
        "        self.intercept = beta[0]\n",
        "        self.coefficient = beta[1:]\n",
        "\n",
        "    def predict(self,X_test):\n",
        "        # X_test = np.insert(X_test, 0, 1, axis=1)\n",
        "        return np.dot(X_test, self.coefficient) + self.intercept"
      ]
    },
    {
      "cell_type": "code",
      "source": [
        "from sklearn.datasets import make_regression\n",
        "import pandas as pd\n",
        "import numpy as np\n",
        "import plotly.express as px\n",
        "import plotly.graph_objects as go\n",
        "from sklearn.metrics import mean_absolute_error,mean_squared_error,r2_score"
      ],
      "metadata": {
        "id": "6Yu0D9fSmoaL"
      },
      "execution_count": 47,
      "outputs": []
    },
    {
      "cell_type": "code",
      "source": [
        "X,y = make_regression(n_samples=100, n_features=2, n_informative=2, n_targets=1, noise=50)"
      ],
      "metadata": {
        "id": "gdXcXgsRnPl_"
      },
      "execution_count": 48,
      "outputs": []
    },
    {
      "cell_type": "code",
      "source": [
        "df = pd.DataFrame({'feature1':X[:,0],'feature2':X[:,1],'target':y})"
      ],
      "metadata": {
        "id": "xrwyiBXonQ8U"
      },
      "execution_count": 49,
      "outputs": []
    },
    {
      "cell_type": "code",
      "source": [
        "df.shape"
      ],
      "metadata": {
        "colab": {
          "base_uri": "https://localhost:8080/"
        },
        "id": "C3hbEcTxnTAI",
        "outputId": "4e06c4a0-7451-4c14-8d3e-2af9bb796d65"
      },
      "execution_count": 50,
      "outputs": [
        {
          "output_type": "execute_result",
          "data": {
            "text/plain": [
              "(100, 3)"
            ]
          },
          "metadata": {},
          "execution_count": 50
        }
      ]
    },
    {
      "cell_type": "code",
      "source": [
        "df.head()"
      ],
      "metadata": {
        "colab": {
          "base_uri": "https://localhost:8080/",
          "height": 206
        },
        "id": "Wknz-bPhnTdN",
        "outputId": "7317e2d7-b95e-45b3-f07e-d8ee210a10b2"
      },
      "execution_count": 51,
      "outputs": [
        {
          "output_type": "execute_result",
          "data": {
            "text/plain": [
              "   feature1  feature2     target\n",
              "0 -0.773788  0.793143 -22.408900\n",
              "1  1.415084 -1.591623  77.499032\n",
              "2 -0.814260 -0.360954 -52.599251\n",
              "3 -0.618901  0.896437 -22.563107\n",
              "4 -0.764545  2.742827  -3.596943"
            ],
            "text/html": [
              "\n",
              "\n",
              "  <div id=\"df-8c1f6c9b-5506-4d0f-8c18-e4e457b25f65\">\n",
              "    <div class=\"colab-df-container\">\n",
              "      <div>\n",
              "<style scoped>\n",
              "    .dataframe tbody tr th:only-of-type {\n",
              "        vertical-align: middle;\n",
              "    }\n",
              "\n",
              "    .dataframe tbody tr th {\n",
              "        vertical-align: top;\n",
              "    }\n",
              "\n",
              "    .dataframe thead th {\n",
              "        text-align: right;\n",
              "    }\n",
              "</style>\n",
              "<table border=\"1\" class=\"dataframe\">\n",
              "  <thead>\n",
              "    <tr style=\"text-align: right;\">\n",
              "      <th></th>\n",
              "      <th>feature1</th>\n",
              "      <th>feature2</th>\n",
              "      <th>target</th>\n",
              "    </tr>\n",
              "  </thead>\n",
              "  <tbody>\n",
              "    <tr>\n",
              "      <th>0</th>\n",
              "      <td>-0.773788</td>\n",
              "      <td>0.793143</td>\n",
              "      <td>-22.408900</td>\n",
              "    </tr>\n",
              "    <tr>\n",
              "      <th>1</th>\n",
              "      <td>1.415084</td>\n",
              "      <td>-1.591623</td>\n",
              "      <td>77.499032</td>\n",
              "    </tr>\n",
              "    <tr>\n",
              "      <th>2</th>\n",
              "      <td>-0.814260</td>\n",
              "      <td>-0.360954</td>\n",
              "      <td>-52.599251</td>\n",
              "    </tr>\n",
              "    <tr>\n",
              "      <th>3</th>\n",
              "      <td>-0.618901</td>\n",
              "      <td>0.896437</td>\n",
              "      <td>-22.563107</td>\n",
              "    </tr>\n",
              "    <tr>\n",
              "      <th>4</th>\n",
              "      <td>-0.764545</td>\n",
              "      <td>2.742827</td>\n",
              "      <td>-3.596943</td>\n",
              "    </tr>\n",
              "  </tbody>\n",
              "</table>\n",
              "</div>\n",
              "      <button class=\"colab-df-convert\" onclick=\"convertToInteractive('df-8c1f6c9b-5506-4d0f-8c18-e4e457b25f65')\"\n",
              "              title=\"Convert this dataframe to an interactive table.\"\n",
              "              style=\"display:none;\">\n",
              "\n",
              "  <svg xmlns=\"http://www.w3.org/2000/svg\" height=\"24px\"viewBox=\"0 0 24 24\"\n",
              "       width=\"24px\">\n",
              "    <path d=\"M0 0h24v24H0V0z\" fill=\"none\"/>\n",
              "    <path d=\"M18.56 5.44l.94 2.06.94-2.06 2.06-.94-2.06-.94-.94-2.06-.94 2.06-2.06.94zm-11 1L8.5 8.5l.94-2.06 2.06-.94-2.06-.94L8.5 2.5l-.94 2.06-2.06.94zm10 10l.94 2.06.94-2.06 2.06-.94-2.06-.94-.94-2.06-.94 2.06-2.06.94z\"/><path d=\"M17.41 7.96l-1.37-1.37c-.4-.4-.92-.59-1.43-.59-.52 0-1.04.2-1.43.59L10.3 9.45l-7.72 7.72c-.78.78-.78 2.05 0 2.83L4 21.41c.39.39.9.59 1.41.59.51 0 1.02-.2 1.41-.59l7.78-7.78 2.81-2.81c.8-.78.8-2.07 0-2.86zM5.41 20L4 18.59l7.72-7.72 1.47 1.35L5.41 20z\"/>\n",
              "  </svg>\n",
              "      </button>\n",
              "\n",
              "\n",
              "\n",
              "    <div id=\"df-f81d2e0c-a146-4539-9d72-a96bea43e250\">\n",
              "      <button class=\"colab-df-quickchart\" onclick=\"quickchart('df-f81d2e0c-a146-4539-9d72-a96bea43e250')\"\n",
              "              title=\"Suggest charts.\"\n",
              "              style=\"display:none;\">\n",
              "\n",
              "<svg xmlns=\"http://www.w3.org/2000/svg\" height=\"24px\"viewBox=\"0 0 24 24\"\n",
              "     width=\"24px\">\n",
              "    <g>\n",
              "        <path d=\"M19 3H5c-1.1 0-2 .9-2 2v14c0 1.1.9 2 2 2h14c1.1 0 2-.9 2-2V5c0-1.1-.9-2-2-2zM9 17H7v-7h2v7zm4 0h-2V7h2v10zm4 0h-2v-4h2v4z\"/>\n",
              "    </g>\n",
              "</svg>\n",
              "      </button>\n",
              "    </div>\n",
              "\n",
              "<style>\n",
              "  .colab-df-quickchart {\n",
              "    background-color: #E8F0FE;\n",
              "    border: none;\n",
              "    border-radius: 50%;\n",
              "    cursor: pointer;\n",
              "    display: none;\n",
              "    fill: #1967D2;\n",
              "    height: 32px;\n",
              "    padding: 0 0 0 0;\n",
              "    width: 32px;\n",
              "  }\n",
              "\n",
              "  .colab-df-quickchart:hover {\n",
              "    background-color: #E2EBFA;\n",
              "    box-shadow: 0px 1px 2px rgba(60, 64, 67, 0.3), 0px 1px 3px 1px rgba(60, 64, 67, 0.15);\n",
              "    fill: #174EA6;\n",
              "  }\n",
              "\n",
              "  [theme=dark] .colab-df-quickchart {\n",
              "    background-color: #3B4455;\n",
              "    fill: #D2E3FC;\n",
              "  }\n",
              "\n",
              "  [theme=dark] .colab-df-quickchart:hover {\n",
              "    background-color: #434B5C;\n",
              "    box-shadow: 0px 1px 3px 1px rgba(0, 0, 0, 0.15);\n",
              "    filter: drop-shadow(0px 1px 2px rgba(0, 0, 0, 0.3));\n",
              "    fill: #FFFFFF;\n",
              "  }\n",
              "</style>\n",
              "\n",
              "    <script>\n",
              "      async function quickchart(key) {\n",
              "        const containerElement = document.querySelector('#' + key);\n",
              "        const charts = await google.colab.kernel.invokeFunction(\n",
              "            'suggestCharts', [key], {});\n",
              "      }\n",
              "    </script>\n",
              "\n",
              "      <script>\n",
              "\n",
              "function displayQuickchartButton(domScope) {\n",
              "  let quickchartButtonEl =\n",
              "    domScope.querySelector('#df-f81d2e0c-a146-4539-9d72-a96bea43e250 button.colab-df-quickchart');\n",
              "  quickchartButtonEl.style.display =\n",
              "    google.colab.kernel.accessAllowed ? 'block' : 'none';\n",
              "}\n",
              "\n",
              "        displayQuickchartButton(document);\n",
              "      </script>\n",
              "      <style>\n",
              "    .colab-df-container {\n",
              "      display:flex;\n",
              "      flex-wrap:wrap;\n",
              "      gap: 12px;\n",
              "    }\n",
              "\n",
              "    .colab-df-convert {\n",
              "      background-color: #E8F0FE;\n",
              "      border: none;\n",
              "      border-radius: 50%;\n",
              "      cursor: pointer;\n",
              "      display: none;\n",
              "      fill: #1967D2;\n",
              "      height: 32px;\n",
              "      padding: 0 0 0 0;\n",
              "      width: 32px;\n",
              "    }\n",
              "\n",
              "    .colab-df-convert:hover {\n",
              "      background-color: #E2EBFA;\n",
              "      box-shadow: 0px 1px 2px rgba(60, 64, 67, 0.3), 0px 1px 3px 1px rgba(60, 64, 67, 0.15);\n",
              "      fill: #174EA6;\n",
              "    }\n",
              "\n",
              "    [theme=dark] .colab-df-convert {\n",
              "      background-color: #3B4455;\n",
              "      fill: #D2E3FC;\n",
              "    }\n",
              "\n",
              "    [theme=dark] .colab-df-convert:hover {\n",
              "      background-color: #434B5C;\n",
              "      box-shadow: 0px 1px 3px 1px rgba(0, 0, 0, 0.15);\n",
              "      filter: drop-shadow(0px 1px 2px rgba(0, 0, 0, 0.3));\n",
              "      fill: #FFFFFF;\n",
              "    }\n",
              "  </style>\n",
              "\n",
              "      <script>\n",
              "        const buttonEl =\n",
              "          document.querySelector('#df-8c1f6c9b-5506-4d0f-8c18-e4e457b25f65 button.colab-df-convert');\n",
              "        buttonEl.style.display =\n",
              "          google.colab.kernel.accessAllowed ? 'block' : 'none';\n",
              "\n",
              "        async function convertToInteractive(key) {\n",
              "          const element = document.querySelector('#df-8c1f6c9b-5506-4d0f-8c18-e4e457b25f65');\n",
              "          const dataTable =\n",
              "            await google.colab.kernel.invokeFunction('convertToInteractive',\n",
              "                                                     [key], {});\n",
              "          if (!dataTable) return;\n",
              "\n",
              "          const docLinkHtml = 'Like what you see? Visit the ' +\n",
              "            '<a target=\"_blank\" href=https://colab.research.google.com/notebooks/data_table.ipynb>data table notebook</a>'\n",
              "            + ' to learn more about interactive tables.';\n",
              "          element.innerHTML = '';\n",
              "          dataTable['output_type'] = 'display_data';\n",
              "          await google.colab.output.renderOutput(dataTable, element);\n",
              "          const docLink = document.createElement('div');\n",
              "          docLink.innerHTML = docLinkHtml;\n",
              "          element.appendChild(docLink);\n",
              "        }\n",
              "      </script>\n",
              "    </div>\n",
              "  </div>\n"
            ]
          },
          "metadata": {},
          "execution_count": 51
        }
      ]
    },
    {
      "cell_type": "code",
      "source": [
        "fig = px.scatter_3d(df, x='feature1', y='feature2', z='target')\n",
        "\n",
        "fig.show()"
      ],
      "metadata": {
        "colab": {
          "base_uri": "https://localhost:8080/",
          "height": 542
        },
        "id": "jjt-_k6PnXZz",
        "outputId": "aeecd00b-0f77-4cd1-9163-c86d9f7bfd98"
      },
      "execution_count": 52,
      "outputs": [
        {
          "output_type": "display_data",
          "data": {
            "text/html": [
              "<html>\n",
              "<head><meta charset=\"utf-8\" /></head>\n",
              "<body>\n",
              "    <div>            <script src=\"https://cdnjs.cloudflare.com/ajax/libs/mathjax/2.7.5/MathJax.js?config=TeX-AMS-MML_SVG\"></script><script type=\"text/javascript\">if (window.MathJax && window.MathJax.Hub && window.MathJax.Hub.Config) {window.MathJax.Hub.Config({SVG: {font: \"STIX-Web\"}});}</script>                <script type=\"text/javascript\">window.PlotlyConfig = {MathJaxConfig: 'local'};</script>\n",
              "        <script charset=\"utf-8\" src=\"https://cdn.plot.ly/plotly-2.24.1.min.js\"></script>                <div id=\"ded48670-5b41-47fa-acef-e9b593b11684\" class=\"plotly-graph-div\" style=\"height:525px; width:100%;\"></div>            <script type=\"text/javascript\">                                    window.PLOTLYENV=window.PLOTLYENV || {};                                    if (document.getElementById(\"ded48670-5b41-47fa-acef-e9b593b11684\")) {                    Plotly.newPlot(                        \"ded48670-5b41-47fa-acef-e9b593b11684\",                        [{\"hovertemplate\":\"feature1=%{x}\\u003cbr\\u003efeature2=%{y}\\u003cbr\\u003etarget=%{z}\\u003cextra\\u003e\\u003c\\u002fextra\\u003e\",\"legendgroup\":\"\",\"marker\":{\"color\":\"#636efa\",\"symbol\":\"circle\"},\"mode\":\"markers\",\"name\":\"\",\"scene\":\"scene\",\"showlegend\":false,\"x\":[-0.7737877721072646,1.415083698705779,-0.814260063079821,-0.6189013190641839,-0.7645449477375478,0.21166589300848432,1.2063483798524317,-0.24890164094818246,-0.6012203370984518,-1.513783394623399,-0.4001294778898566,0.7075639779014775,0.8785198607871763,-0.4011305128036295,0.06588255127143261,0.5933548102185131,-0.6093280874279304,0.4792237193809501,1.906687209335569,1.366845180858587,-1.4900475655290433,0.17392458225920512,1.0313315847218933,0.11188843928540461,-0.537834888964276,-0.6405214022132937,0.6959004654452917,0.8712136969858688,0.12840982972943754,1.188965232588112,-0.7410065679178494,-1.057966731634936,0.40732398439787454,-0.832230981083448,-1.605193442301154,1.1850101689493457,-1.2052927976259402,-1.1983549863424974,0.21643627368060642,0.2715167896816294,-0.14879089346139285,0.39539501954995465,0.3286984544547102,0.3472224754162855,0.5350372516287198,0.45257713795534205,-0.40815732406724803,-0.06753339874610294,0.9093506286709391,-0.3657425901369972,0.6080176396086657,-0.7533744117864886,1.245414414908295,-1.147037610796274,-0.6367236898240823,-0.4859101113063397,1.4241309621567368,-1.0777196858847908,-0.21429234058970636,2.1682863925032265,-0.26174499950117647,-0.655661514505769,1.0212054516966589,0.1727272994595485,-0.8099989426489699,0.04253936516128156,-1.3227255093310224,-1.2526361830930923,1.6748463822903463,0.806704155171535,1.198216625897049,-2.651991814403071,-0.004099656895392589,-0.1583669854423332,-0.752234990525407,-1.8162639658219684,0.7685295230932219,0.0773687336881928,-0.5520451583283643,0.1404286384208276,1.7913565334657238,0.9766588566456282,-0.6226268353887943,0.6478287892475965,-1.1017073454285846,-0.18268112674988646,-1.7086254629785929,-0.9156152311464909,-0.4065512045800638,0.7883556912073678,0.48896467001057825,-2.014187250350695,-0.6515417250836715,0.8883933124420118,0.3493798225757575,-0.2875974386341735,-0.5585093629113019,-0.27983148133882724,1.067553725643883,-0.4555002266258827],\"y\":[0.7931425109253349,-1.5916228021787622,-0.3609538204865076,0.8964374409853165,2.7428270779766364,-0.8828713807199734,-0.09293472383519494,0.6265160141223816,-0.40207391042373714,1.0389954993273802,0.014301516719052674,0.35665975599417943,-0.9763197409865423,0.7809852181037025,-0.026923773188963118,0.3313179723288229,0.7821024480323032,-0.8335176470043624,-0.09516630047708118,-0.3627101379615556,-0.8229330663056039,1.2490202819783707,-0.9521632981482461,0.21855490412784714,-1.052754970792796,-0.13250348113579605,0.6122879623719396,-0.5197287290755361,-0.1582403905350504,1.3796723399610353,-0.38231844803621423,0.7397623994312719,-0.6014238199914018,0.6719953801664431,-0.645045593957489,-0.5151019042678234,0.5551618132901804,-0.6512704864923496,1.1713126737642237,-1.0359351559032743,-1.06243749198812,0.2085880073244809,-1.6304790534023021,0.11014976915402167,-1.1323878959089768,0.1056609962673589,-0.9690494347132943,-0.5668901789667629,-0.015643487441687344,1.3783665401290242,0.7231186382229298,0.21100716810353928,-0.9421559589813894,0.3006693159883562,0.31700721481335503,0.532773140949101,-0.5665562579826529,-1.3806466611368058,0.668167502539624,0.17731403696048906,0.5933913864551941,0.7144599718070381,-1.3962180174175065,0.32208270923312027,0.09228685234239721,-0.6156221436441945,-0.5654831417036404,-0.18223863755253197,-0.9926224726359085,-0.013586093374878356,0.9884925633182299,-1.1494408989378582,-0.48086359812853746,-0.7240341127008837,-1.0782385532150065,-0.06905693850316748,-0.21071116209075808,-0.7098462957557615,-0.29420283910299727,0.012345015278699804,-1.9962623634823833,-1.831617029371789,0.023502178833834386,0.7167739219711319,-0.3763162397709023,0.2558564708868776,1.5549919688992875,0.9774699382543334,0.1567819123843071,-0.8963732005998726,-0.1501584835542725,-0.0953210412297473,0.97793895631918,-0.2554270381282454,-0.5951463999659292,-1.6098587172129695,-0.9865995192291828,0.18457370235476953,0.8290232422718911,0.7984436707305297],\"z\":[-22.40889966208161,77.49903208964696,-52.59925059970921,-22.563107456517567,-3.59694277940768,-46.79480994521824,125.11370823700275,10.529018591835406,-53.8727061025972,-106.53336594947228,43.73547140432834,66.06959194239477,91.32060653291757,-10.553538789864623,108.56392132720872,44.160262585088006,-39.43727359261493,-25.66862466141685,91.92030976586513,47.95401147773283,-103.54875625577705,26.204989290406132,-37.98515610238815,-14.116241623343367,-55.242907030940295,30.642301107372752,125.46917383569348,21.88865254057134,29.68244090908247,159.01679234376283,-88.66866741684265,-19.486895158860897,33.64324590887411,-38.76608186747122,-90.58642736430363,212.5096674718155,-68.54204956622324,-87.5491033071759,101.40389338793256,-64.05125668102296,-5.304047090285636,98.17147133894858,-61.957002721419855,27.696556240458584,67.11414561362834,-51.046139396069805,-96.6682713047668,-2.2569316952689213,39.054788585061644,-22.494014391270845,92.7049917311132,-95.66278036191021,53.91143922034191,-121.24729488922564,56.13282155575367,-68.11440553713507,127.49854313182851,-105.38044040267071,0.6552610524928948,192.75582513538401,68.3831816985397,-67.22925052770498,8.90510932917709,8.473445397760042,-23.439976116912412,40.66865221057514,-163.57562900687623,-84.79956753099354,92.2149882424104,33.99329642790167,164.6313186639674,-370.5226188100693,-83.96485776739385,-89.44242863073774,-91.31224130373198,-56.00374557060967,28.726602675779084,-67.57346466055853,-62.92380869599356,3.836740521251161,173.24030470411262,57.799324676567295,-111.7456257810222,100.50183238960776,-54.92111729927781,4.637842538854344,-85.77226666790558,23.573039296736404,-27.137013890175698,-93.32818617434289,24.743927675497183,-265.1305293346481,-43.87007346579554,126.58327411974324,49.58395073862651,-119.96602661654038,-136.8014702552457,0.08685433075111071,59.65241922858915,64.62292521857574],\"type\":\"scatter3d\"}],                        {\"template\":{\"data\":{\"histogram2dcontour\":[{\"type\":\"histogram2dcontour\",\"colorbar\":{\"outlinewidth\":0,\"ticks\":\"\"},\"colorscale\":[[0.0,\"#0d0887\"],[0.1111111111111111,\"#46039f\"],[0.2222222222222222,\"#7201a8\"],[0.3333333333333333,\"#9c179e\"],[0.4444444444444444,\"#bd3786\"],[0.5555555555555556,\"#d8576b\"],[0.6666666666666666,\"#ed7953\"],[0.7777777777777778,\"#fb9f3a\"],[0.8888888888888888,\"#fdca26\"],[1.0,\"#f0f921\"]]}],\"choropleth\":[{\"type\":\"choropleth\",\"colorbar\":{\"outlinewidth\":0,\"ticks\":\"\"}}],\"histogram2d\":[{\"type\":\"histogram2d\",\"colorbar\":{\"outlinewidth\":0,\"ticks\":\"\"},\"colorscale\":[[0.0,\"#0d0887\"],[0.1111111111111111,\"#46039f\"],[0.2222222222222222,\"#7201a8\"],[0.3333333333333333,\"#9c179e\"],[0.4444444444444444,\"#bd3786\"],[0.5555555555555556,\"#d8576b\"],[0.6666666666666666,\"#ed7953\"],[0.7777777777777778,\"#fb9f3a\"],[0.8888888888888888,\"#fdca26\"],[1.0,\"#f0f921\"]]}],\"heatmap\":[{\"type\":\"heatmap\",\"colorbar\":{\"outlinewidth\":0,\"ticks\":\"\"},\"colorscale\":[[0.0,\"#0d0887\"],[0.1111111111111111,\"#46039f\"],[0.2222222222222222,\"#7201a8\"],[0.3333333333333333,\"#9c179e\"],[0.4444444444444444,\"#bd3786\"],[0.5555555555555556,\"#d8576b\"],[0.6666666666666666,\"#ed7953\"],[0.7777777777777778,\"#fb9f3a\"],[0.8888888888888888,\"#fdca26\"],[1.0,\"#f0f921\"]]}],\"heatmapgl\":[{\"type\":\"heatmapgl\",\"colorbar\":{\"outlinewidth\":0,\"ticks\":\"\"},\"colorscale\":[[0.0,\"#0d0887\"],[0.1111111111111111,\"#46039f\"],[0.2222222222222222,\"#7201a8\"],[0.3333333333333333,\"#9c179e\"],[0.4444444444444444,\"#bd3786\"],[0.5555555555555556,\"#d8576b\"],[0.6666666666666666,\"#ed7953\"],[0.7777777777777778,\"#fb9f3a\"],[0.8888888888888888,\"#fdca26\"],[1.0,\"#f0f921\"]]}],\"contourcarpet\":[{\"type\":\"contourcarpet\",\"colorbar\":{\"outlinewidth\":0,\"ticks\":\"\"}}],\"contour\":[{\"type\":\"contour\",\"colorbar\":{\"outlinewidth\":0,\"ticks\":\"\"},\"colorscale\":[[0.0,\"#0d0887\"],[0.1111111111111111,\"#46039f\"],[0.2222222222222222,\"#7201a8\"],[0.3333333333333333,\"#9c179e\"],[0.4444444444444444,\"#bd3786\"],[0.5555555555555556,\"#d8576b\"],[0.6666666666666666,\"#ed7953\"],[0.7777777777777778,\"#fb9f3a\"],[0.8888888888888888,\"#fdca26\"],[1.0,\"#f0f921\"]]}],\"surface\":[{\"type\":\"surface\",\"colorbar\":{\"outlinewidth\":0,\"ticks\":\"\"},\"colorscale\":[[0.0,\"#0d0887\"],[0.1111111111111111,\"#46039f\"],[0.2222222222222222,\"#7201a8\"],[0.3333333333333333,\"#9c179e\"],[0.4444444444444444,\"#bd3786\"],[0.5555555555555556,\"#d8576b\"],[0.6666666666666666,\"#ed7953\"],[0.7777777777777778,\"#fb9f3a\"],[0.8888888888888888,\"#fdca26\"],[1.0,\"#f0f921\"]]}],\"mesh3d\":[{\"type\":\"mesh3d\",\"colorbar\":{\"outlinewidth\":0,\"ticks\":\"\"}}],\"scatter\":[{\"fillpattern\":{\"fillmode\":\"overlay\",\"size\":10,\"solidity\":0.2},\"type\":\"scatter\"}],\"parcoords\":[{\"type\":\"parcoords\",\"line\":{\"colorbar\":{\"outlinewidth\":0,\"ticks\":\"\"}}}],\"scatterpolargl\":[{\"type\":\"scatterpolargl\",\"marker\":{\"colorbar\":{\"outlinewidth\":0,\"ticks\":\"\"}}}],\"bar\":[{\"error_x\":{\"color\":\"#2a3f5f\"},\"error_y\":{\"color\":\"#2a3f5f\"},\"marker\":{\"line\":{\"color\":\"#E5ECF6\",\"width\":0.5},\"pattern\":{\"fillmode\":\"overlay\",\"size\":10,\"solidity\":0.2}},\"type\":\"bar\"}],\"scattergeo\":[{\"type\":\"scattergeo\",\"marker\":{\"colorbar\":{\"outlinewidth\":0,\"ticks\":\"\"}}}],\"scatterpolar\":[{\"type\":\"scatterpolar\",\"marker\":{\"colorbar\":{\"outlinewidth\":0,\"ticks\":\"\"}}}],\"histogram\":[{\"marker\":{\"pattern\":{\"fillmode\":\"overlay\",\"size\":10,\"solidity\":0.2}},\"type\":\"histogram\"}],\"scattergl\":[{\"type\":\"scattergl\",\"marker\":{\"colorbar\":{\"outlinewidth\":0,\"ticks\":\"\"}}}],\"scatter3d\":[{\"type\":\"scatter3d\",\"line\":{\"colorbar\":{\"outlinewidth\":0,\"ticks\":\"\"}},\"marker\":{\"colorbar\":{\"outlinewidth\":0,\"ticks\":\"\"}}}],\"scattermapbox\":[{\"type\":\"scattermapbox\",\"marker\":{\"colorbar\":{\"outlinewidth\":0,\"ticks\":\"\"}}}],\"scatterternary\":[{\"type\":\"scatterternary\",\"marker\":{\"colorbar\":{\"outlinewidth\":0,\"ticks\":\"\"}}}],\"scattercarpet\":[{\"type\":\"scattercarpet\",\"marker\":{\"colorbar\":{\"outlinewidth\":0,\"ticks\":\"\"}}}],\"carpet\":[{\"aaxis\":{\"endlinecolor\":\"#2a3f5f\",\"gridcolor\":\"white\",\"linecolor\":\"white\",\"minorgridcolor\":\"white\",\"startlinecolor\":\"#2a3f5f\"},\"baxis\":{\"endlinecolor\":\"#2a3f5f\",\"gridcolor\":\"white\",\"linecolor\":\"white\",\"minorgridcolor\":\"white\",\"startlinecolor\":\"#2a3f5f\"},\"type\":\"carpet\"}],\"table\":[{\"cells\":{\"fill\":{\"color\":\"#EBF0F8\"},\"line\":{\"color\":\"white\"}},\"header\":{\"fill\":{\"color\":\"#C8D4E3\"},\"line\":{\"color\":\"white\"}},\"type\":\"table\"}],\"barpolar\":[{\"marker\":{\"line\":{\"color\":\"#E5ECF6\",\"width\":0.5},\"pattern\":{\"fillmode\":\"overlay\",\"size\":10,\"solidity\":0.2}},\"type\":\"barpolar\"}],\"pie\":[{\"automargin\":true,\"type\":\"pie\"}]},\"layout\":{\"autotypenumbers\":\"strict\",\"colorway\":[\"#636efa\",\"#EF553B\",\"#00cc96\",\"#ab63fa\",\"#FFA15A\",\"#19d3f3\",\"#FF6692\",\"#B6E880\",\"#FF97FF\",\"#FECB52\"],\"font\":{\"color\":\"#2a3f5f\"},\"hovermode\":\"closest\",\"hoverlabel\":{\"align\":\"left\"},\"paper_bgcolor\":\"white\",\"plot_bgcolor\":\"#E5ECF6\",\"polar\":{\"bgcolor\":\"#E5ECF6\",\"angularaxis\":{\"gridcolor\":\"white\",\"linecolor\":\"white\",\"ticks\":\"\"},\"radialaxis\":{\"gridcolor\":\"white\",\"linecolor\":\"white\",\"ticks\":\"\"}},\"ternary\":{\"bgcolor\":\"#E5ECF6\",\"aaxis\":{\"gridcolor\":\"white\",\"linecolor\":\"white\",\"ticks\":\"\"},\"baxis\":{\"gridcolor\":\"white\",\"linecolor\":\"white\",\"ticks\":\"\"},\"caxis\":{\"gridcolor\":\"white\",\"linecolor\":\"white\",\"ticks\":\"\"}},\"coloraxis\":{\"colorbar\":{\"outlinewidth\":0,\"ticks\":\"\"}},\"colorscale\":{\"sequential\":[[0.0,\"#0d0887\"],[0.1111111111111111,\"#46039f\"],[0.2222222222222222,\"#7201a8\"],[0.3333333333333333,\"#9c179e\"],[0.4444444444444444,\"#bd3786\"],[0.5555555555555556,\"#d8576b\"],[0.6666666666666666,\"#ed7953\"],[0.7777777777777778,\"#fb9f3a\"],[0.8888888888888888,\"#fdca26\"],[1.0,\"#f0f921\"]],\"sequentialminus\":[[0.0,\"#0d0887\"],[0.1111111111111111,\"#46039f\"],[0.2222222222222222,\"#7201a8\"],[0.3333333333333333,\"#9c179e\"],[0.4444444444444444,\"#bd3786\"],[0.5555555555555556,\"#d8576b\"],[0.6666666666666666,\"#ed7953\"],[0.7777777777777778,\"#fb9f3a\"],[0.8888888888888888,\"#fdca26\"],[1.0,\"#f0f921\"]],\"diverging\":[[0,\"#8e0152\"],[0.1,\"#c51b7d\"],[0.2,\"#de77ae\"],[0.3,\"#f1b6da\"],[0.4,\"#fde0ef\"],[0.5,\"#f7f7f7\"],[0.6,\"#e6f5d0\"],[0.7,\"#b8e186\"],[0.8,\"#7fbc41\"],[0.9,\"#4d9221\"],[1,\"#276419\"]]},\"xaxis\":{\"gridcolor\":\"white\",\"linecolor\":\"white\",\"ticks\":\"\",\"title\":{\"standoff\":15},\"zerolinecolor\":\"white\",\"automargin\":true,\"zerolinewidth\":2},\"yaxis\":{\"gridcolor\":\"white\",\"linecolor\":\"white\",\"ticks\":\"\",\"title\":{\"standoff\":15},\"zerolinecolor\":\"white\",\"automargin\":true,\"zerolinewidth\":2},\"scene\":{\"xaxis\":{\"backgroundcolor\":\"#E5ECF6\",\"gridcolor\":\"white\",\"linecolor\":\"white\",\"showbackground\":true,\"ticks\":\"\",\"zerolinecolor\":\"white\",\"gridwidth\":2},\"yaxis\":{\"backgroundcolor\":\"#E5ECF6\",\"gridcolor\":\"white\",\"linecolor\":\"white\",\"showbackground\":true,\"ticks\":\"\",\"zerolinecolor\":\"white\",\"gridwidth\":2},\"zaxis\":{\"backgroundcolor\":\"#E5ECF6\",\"gridcolor\":\"white\",\"linecolor\":\"white\",\"showbackground\":true,\"ticks\":\"\",\"zerolinecolor\":\"white\",\"gridwidth\":2}},\"shapedefaults\":{\"line\":{\"color\":\"#2a3f5f\"}},\"annotationdefaults\":{\"arrowcolor\":\"#2a3f5f\",\"arrowhead\":0,\"arrowwidth\":1},\"geo\":{\"bgcolor\":\"white\",\"landcolor\":\"#E5ECF6\",\"subunitcolor\":\"white\",\"showland\":true,\"showlakes\":true,\"lakecolor\":\"white\"},\"title\":{\"x\":0.05},\"mapbox\":{\"style\":\"light\"}}},\"scene\":{\"domain\":{\"x\":[0.0,1.0],\"y\":[0.0,1.0]},\"xaxis\":{\"title\":{\"text\":\"feature1\"}},\"yaxis\":{\"title\":{\"text\":\"feature2\"}},\"zaxis\":{\"title\":{\"text\":\"target\"}}},\"legend\":{\"tracegroupgap\":0},\"margin\":{\"t\":60}},                        {\"responsive\": true}                    ).then(function(){\n",
              "                            \n",
              "var gd = document.getElementById('ded48670-5b41-47fa-acef-e9b593b11684');\n",
              "var x = new MutationObserver(function (mutations, observer) {{\n",
              "        var display = window.getComputedStyle(gd).display;\n",
              "        if (!display || display === 'none') {{\n",
              "            console.log([gd, 'removed!']);\n",
              "            Plotly.purge(gd);\n",
              "            observer.disconnect();\n",
              "        }}\n",
              "}});\n",
              "\n",
              "// Listen for the removal of the full notebook cells\n",
              "var notebookContainer = gd.closest('#notebook-container');\n",
              "if (notebookContainer) {{\n",
              "    x.observe(notebookContainer, {childList: true});\n",
              "}}\n",
              "\n",
              "// Listen for the clearing of the current output cell\n",
              "var outputEl = gd.closest('.output');\n",
              "if (outputEl) {{\n",
              "    x.observe(outputEl, {childList: true});\n",
              "}}\n",
              "\n",
              "                        })                };                            </script>        </div>\n",
              "</body>\n",
              "</html>"
            ]
          },
          "metadata": {}
        }
      ]
    },
    {
      "cell_type": "code",
      "source": [
        "from sklearn.model_selection import train_test_split\n",
        "X_train,X_test,y_train,y_test = train_test_split(X,y,test_size=0.2,random_state=3)"
      ],
      "metadata": {
        "id": "3x4iYWLindvS"
      },
      "execution_count": 53,
      "outputs": []
    },
    {
      "cell_type": "code",
      "source": [
        "lr = MultipleLinearRegression()\n",
        "lr.fit(X_train, y_train)\n",
        "y_pred = lr.predict(X_test)"
      ],
      "metadata": {
        "id": "Br5YyJganjGo"
      },
      "execution_count": 54,
      "outputs": []
    },
    {
      "cell_type": "code",
      "source": [
        "print(\"MAE\",mean_absolute_error(y_test,y_pred))\n",
        "print(\"MSE\",mean_squared_error(y_test,y_pred))\n",
        "print(\"R2 score\",r2_score(y_test,y_pred))"
      ],
      "metadata": {
        "colab": {
          "base_uri": "https://localhost:8080/"
        },
        "id": "JrYw1QxnpNmk",
        "outputId": "1ed4a369-7444-4dd2-bd25-a6c06ce2a3b7"
      },
      "execution_count": 55,
      "outputs": [
        {
          "output_type": "stream",
          "name": "stdout",
          "text": [
            "MAE 48.95063051764091\n",
            "MSE 3316.1501339876354\n",
            "R2 score 0.7658316856714729\n"
          ]
        }
      ]
    },
    {
      "cell_type": "code",
      "source": [
        "# Create a grid of points for plotting the plane\n",
        "x_grid, y_grid = np.meshgrid(np.linspace(X_test[:, 0].min(), X_test[:, 0].max(), 20),\n",
        "                             np.linspace(X_test[:, 1].min(), X_test[:, 1].max(), 20))\n",
        "z_plane = lr.intercept + lr.coefficient[0] * x_grid + lr.coefficient[1] * y_grid\n",
        "\n",
        "# Create a scatter plot of the test data points\n",
        "scatter = go.Scatter3d(x=X_test[:, 0], y=X_test[:, 1], z=y_test,\n",
        "                       mode='markers', marker=dict(size=4), name='Test Data')\n",
        "\n",
        "# Create a surface plot of the fitted plane\n",
        "surface = go.Surface(x=x_grid, y=y_grid, z=z_plane,\n",
        "                     opacity=0.7, showscale=False, name='Fitted Plane')\n",
        "\n",
        "layout = go.Layout(scene=dict(xaxis_title='Feature 1', yaxis_title='Feature 2', zaxis_title='Predicted Value'),\n",
        "                   title='Fitted Plane in 3D')\n",
        "fig = go.Figure(data=[scatter, surface], layout=layout)\n",
        "fig.show()"
      ],
      "metadata": {
        "colab": {
          "base_uri": "https://localhost:8080/",
          "height": 542
        },
        "id": "CMt3W2TmpxpJ",
        "outputId": "1676657f-fedc-488e-9d49-6e4f23448df9"
      },
      "execution_count": 56,
      "outputs": [
        {
          "output_type": "display_data",
          "data": {
            "text/html": [
              "<html>\n",
              "<head><meta charset=\"utf-8\" /></head>\n",
              "<body>\n",
              "    <div>            <script src=\"https://cdnjs.cloudflare.com/ajax/libs/mathjax/2.7.5/MathJax.js?config=TeX-AMS-MML_SVG\"></script><script type=\"text/javascript\">if (window.MathJax && window.MathJax.Hub && window.MathJax.Hub.Config) {window.MathJax.Hub.Config({SVG: {font: \"STIX-Web\"}});}</script>                <script type=\"text/javascript\">window.PlotlyConfig = {MathJaxConfig: 'local'};</script>\n",
              "        <script charset=\"utf-8\" src=\"https://cdn.plot.ly/plotly-2.24.1.min.js\"></script>                <div id=\"5dc21570-ac65-479b-a8f7-83dcfb071ac1\" class=\"plotly-graph-div\" style=\"height:525px; width:100%;\"></div>            <script type=\"text/javascript\">                                    window.PLOTLYENV=window.PLOTLYENV || {};                                    if (document.getElementById(\"5dc21570-ac65-479b-a8f7-83dcfb071ac1\")) {                    Plotly.newPlot(                        \"5dc21570-ac65-479b-a8f7-83dcfb071ac1\",                        [{\"marker\":{\"size\":4},\"mode\":\"markers\",\"name\":\"Test Data\",\"x\":[0.8883933124420118,-1.2526361830930923,1.2063483798524317,-0.8099989426489699,-0.5585093629113019,0.6478287892475965,1.067553725643883,0.3286984544547102,-0.6405214022132937,0.5933548102185131,0.0773687336881928,-1.513783394623399,-2.651991814403071,-0.27983148133882724,-1.605193442301154,-1.8162639658219684,-0.6226268353887943,0.11188843928540461,2.1682863925032265,0.45257713795534205],\"y\":[-0.2554270381282454,-0.18223863755253197,-0.09293472383519494,0.09228685234239721,-0.9865995192291828,0.7167739219711319,0.8290232422718911,-1.6304790534023021,-0.13250348113579605,0.3313179723288229,-0.7098462957557615,1.0389954993273802,-1.1494408989378582,0.18457370235476953,-0.645045593957489,-0.06905693850316748,0.023502178833834386,0.21855490412784714,0.17731403696048906,0.1056609962673589],\"z\":[126.58327411974324,-84.79956753099354,125.11370823700275,-23.439976116912412,-136.8014702552457,100.50183238960776,59.65241922858915,-61.957002721419855,30.642301107372752,44.160262585088006,-67.57346466055853,-106.53336594947228,-370.5226188100693,0.08685433075111071,-90.58642736430363,-56.00374557060967,-111.7456257810222,-14.116241623343367,192.75582513538401,-51.046139396069805],\"type\":\"scatter3d\"},{\"name\":\"Fitted Plane\",\"opacity\":0.7,\"showscale\":false,\"x\":[[-2.651991814403071,-2.3982929614080026,-2.1445941084129343,-1.8908952554178662,-1.6371964024227978,-1.3834975494277295,-1.1297986964326614,-0.8760998434375931,-0.6224009904425247,-0.3687021374474564,-0.11500328445238805,0.13869556854268028,0.3923944215377482,0.6460932745328165,0.8997921275278848,1.1534909805229532,1.4071898335180215,1.6608886865130899,1.9145875395081582,2.1682863925032265],[-2.651991814403071,-2.3982929614080026,-2.1445941084129343,-1.8908952554178662,-1.6371964024227978,-1.3834975494277295,-1.1297986964326614,-0.8760998434375931,-0.6224009904425247,-0.3687021374474564,-0.11500328445238805,0.13869556854268028,0.3923944215377482,0.6460932745328165,0.8997921275278848,1.1534909805229532,1.4071898335180215,1.6608886865130899,1.9145875395081582,2.1682863925032265],[-2.651991814403071,-2.3982929614080026,-2.1445941084129343,-1.8908952554178662,-1.6371964024227978,-1.3834975494277295,-1.1297986964326614,-0.8760998434375931,-0.6224009904425247,-0.3687021374474564,-0.11500328445238805,0.13869556854268028,0.3923944215377482,0.6460932745328165,0.8997921275278848,1.1534909805229532,1.4071898335180215,1.6608886865130899,1.9145875395081582,2.1682863925032265],[-2.651991814403071,-2.3982929614080026,-2.1445941084129343,-1.8908952554178662,-1.6371964024227978,-1.3834975494277295,-1.1297986964326614,-0.8760998434375931,-0.6224009904425247,-0.3687021374474564,-0.11500328445238805,0.13869556854268028,0.3923944215377482,0.6460932745328165,0.8997921275278848,1.1534909805229532,1.4071898335180215,1.6608886865130899,1.9145875395081582,2.1682863925032265],[-2.651991814403071,-2.3982929614080026,-2.1445941084129343,-1.8908952554178662,-1.6371964024227978,-1.3834975494277295,-1.1297986964326614,-0.8760998434375931,-0.6224009904425247,-0.3687021374474564,-0.11500328445238805,0.13869556854268028,0.3923944215377482,0.6460932745328165,0.8997921275278848,1.1534909805229532,1.4071898335180215,1.6608886865130899,1.9145875395081582,2.1682863925032265],[-2.651991814403071,-2.3982929614080026,-2.1445941084129343,-1.8908952554178662,-1.6371964024227978,-1.3834975494277295,-1.1297986964326614,-0.8760998434375931,-0.6224009904425247,-0.3687021374474564,-0.11500328445238805,0.13869556854268028,0.3923944215377482,0.6460932745328165,0.8997921275278848,1.1534909805229532,1.4071898335180215,1.6608886865130899,1.9145875395081582,2.1682863925032265],[-2.651991814403071,-2.3982929614080026,-2.1445941084129343,-1.8908952554178662,-1.6371964024227978,-1.3834975494277295,-1.1297986964326614,-0.8760998434375931,-0.6224009904425247,-0.3687021374474564,-0.11500328445238805,0.13869556854268028,0.3923944215377482,0.6460932745328165,0.8997921275278848,1.1534909805229532,1.4071898335180215,1.6608886865130899,1.9145875395081582,2.1682863925032265],[-2.651991814403071,-2.3982929614080026,-2.1445941084129343,-1.8908952554178662,-1.6371964024227978,-1.3834975494277295,-1.1297986964326614,-0.8760998434375931,-0.6224009904425247,-0.3687021374474564,-0.11500328445238805,0.13869556854268028,0.3923944215377482,0.6460932745328165,0.8997921275278848,1.1534909805229532,1.4071898335180215,1.6608886865130899,1.9145875395081582,2.1682863925032265],[-2.651991814403071,-2.3982929614080026,-2.1445941084129343,-1.8908952554178662,-1.6371964024227978,-1.3834975494277295,-1.1297986964326614,-0.8760998434375931,-0.6224009904425247,-0.3687021374474564,-0.11500328445238805,0.13869556854268028,0.3923944215377482,0.6460932745328165,0.8997921275278848,1.1534909805229532,1.4071898335180215,1.6608886865130899,1.9145875395081582,2.1682863925032265],[-2.651991814403071,-2.3982929614080026,-2.1445941084129343,-1.8908952554178662,-1.6371964024227978,-1.3834975494277295,-1.1297986964326614,-0.8760998434375931,-0.6224009904425247,-0.3687021374474564,-0.11500328445238805,0.13869556854268028,0.3923944215377482,0.6460932745328165,0.8997921275278848,1.1534909805229532,1.4071898335180215,1.6608886865130899,1.9145875395081582,2.1682863925032265],[-2.651991814403071,-2.3982929614080026,-2.1445941084129343,-1.8908952554178662,-1.6371964024227978,-1.3834975494277295,-1.1297986964326614,-0.8760998434375931,-0.6224009904425247,-0.3687021374474564,-0.11500328445238805,0.13869556854268028,0.3923944215377482,0.6460932745328165,0.8997921275278848,1.1534909805229532,1.4071898335180215,1.6608886865130899,1.9145875395081582,2.1682863925032265],[-2.651991814403071,-2.3982929614080026,-2.1445941084129343,-1.8908952554178662,-1.6371964024227978,-1.3834975494277295,-1.1297986964326614,-0.8760998434375931,-0.6224009904425247,-0.3687021374474564,-0.11500328445238805,0.13869556854268028,0.3923944215377482,0.6460932745328165,0.8997921275278848,1.1534909805229532,1.4071898335180215,1.6608886865130899,1.9145875395081582,2.1682863925032265],[-2.651991814403071,-2.3982929614080026,-2.1445941084129343,-1.8908952554178662,-1.6371964024227978,-1.3834975494277295,-1.1297986964326614,-0.8760998434375931,-0.6224009904425247,-0.3687021374474564,-0.11500328445238805,0.13869556854268028,0.3923944215377482,0.6460932745328165,0.8997921275278848,1.1534909805229532,1.4071898335180215,1.6608886865130899,1.9145875395081582,2.1682863925032265],[-2.651991814403071,-2.3982929614080026,-2.1445941084129343,-1.8908952554178662,-1.6371964024227978,-1.3834975494277295,-1.1297986964326614,-0.8760998434375931,-0.6224009904425247,-0.3687021374474564,-0.11500328445238805,0.13869556854268028,0.3923944215377482,0.6460932745328165,0.8997921275278848,1.1534909805229532,1.4071898335180215,1.6608886865130899,1.9145875395081582,2.1682863925032265],[-2.651991814403071,-2.3982929614080026,-2.1445941084129343,-1.8908952554178662,-1.6371964024227978,-1.3834975494277295,-1.1297986964326614,-0.8760998434375931,-0.6224009904425247,-0.3687021374474564,-0.11500328445238805,0.13869556854268028,0.3923944215377482,0.6460932745328165,0.8997921275278848,1.1534909805229532,1.4071898335180215,1.6608886865130899,1.9145875395081582,2.1682863925032265],[-2.651991814403071,-2.3982929614080026,-2.1445941084129343,-1.8908952554178662,-1.6371964024227978,-1.3834975494277295,-1.1297986964326614,-0.8760998434375931,-0.6224009904425247,-0.3687021374474564,-0.11500328445238805,0.13869556854268028,0.3923944215377482,0.6460932745328165,0.8997921275278848,1.1534909805229532,1.4071898335180215,1.6608886865130899,1.9145875395081582,2.1682863925032265],[-2.651991814403071,-2.3982929614080026,-2.1445941084129343,-1.8908952554178662,-1.6371964024227978,-1.3834975494277295,-1.1297986964326614,-0.8760998434375931,-0.6224009904425247,-0.3687021374474564,-0.11500328445238805,0.13869556854268028,0.3923944215377482,0.6460932745328165,0.8997921275278848,1.1534909805229532,1.4071898335180215,1.6608886865130899,1.9145875395081582,2.1682863925032265],[-2.651991814403071,-2.3982929614080026,-2.1445941084129343,-1.8908952554178662,-1.6371964024227978,-1.3834975494277295,-1.1297986964326614,-0.8760998434375931,-0.6224009904425247,-0.3687021374474564,-0.11500328445238805,0.13869556854268028,0.3923944215377482,0.6460932745328165,0.8997921275278848,1.1534909805229532,1.4071898335180215,1.6608886865130899,1.9145875395081582,2.1682863925032265],[-2.651991814403071,-2.3982929614080026,-2.1445941084129343,-1.8908952554178662,-1.6371964024227978,-1.3834975494277295,-1.1297986964326614,-0.8760998434375931,-0.6224009904425247,-0.3687021374474564,-0.11500328445238805,0.13869556854268028,0.3923944215377482,0.6460932745328165,0.8997921275278848,1.1534909805229532,1.4071898335180215,1.6608886865130899,1.9145875395081582,2.1682863925032265],[-2.651991814403071,-2.3982929614080026,-2.1445941084129343,-1.8908952554178662,-1.6371964024227978,-1.3834975494277295,-1.1297986964326614,-0.8760998434375931,-0.6224009904425247,-0.3687021374474564,-0.11500328445238805,0.13869556854268028,0.3923944215377482,0.6460932745328165,0.8997921275278848,1.1534909805229532,1.4071898335180215,1.6608886865130899,1.9145875395081582,2.1682863925032265]],\"y\":[[-1.6304790534023021,-1.6304790534023021,-1.6304790534023021,-1.6304790534023021,-1.6304790534023021,-1.6304790534023021,-1.6304790534023021,-1.6304790534023021,-1.6304790534023021,-1.6304790534023021,-1.6304790534023021,-1.6304790534023021,-1.6304790534023021,-1.6304790534023021,-1.6304790534023021,-1.6304790534023021,-1.6304790534023021,-1.6304790534023021,-1.6304790534023021,-1.6304790534023021],[-1.4899803927323187,-1.4899803927323187,-1.4899803927323187,-1.4899803927323187,-1.4899803927323187,-1.4899803927323187,-1.4899803927323187,-1.4899803927323187,-1.4899803927323187,-1.4899803927323187,-1.4899803927323187,-1.4899803927323187,-1.4899803927323187,-1.4899803927323187,-1.4899803927323187,-1.4899803927323187,-1.4899803927323187,-1.4899803927323187,-1.4899803927323187,-1.4899803927323187],[-1.3494817320623356,-1.3494817320623356,-1.3494817320623356,-1.3494817320623356,-1.3494817320623356,-1.3494817320623356,-1.3494817320623356,-1.3494817320623356,-1.3494817320623356,-1.3494817320623356,-1.3494817320623356,-1.3494817320623356,-1.3494817320623356,-1.3494817320623356,-1.3494817320623356,-1.3494817320623356,-1.3494817320623356,-1.3494817320623356,-1.3494817320623356,-1.3494817320623356],[-1.2089830713923524,-1.2089830713923524,-1.2089830713923524,-1.2089830713923524,-1.2089830713923524,-1.2089830713923524,-1.2089830713923524,-1.2089830713923524,-1.2089830713923524,-1.2089830713923524,-1.2089830713923524,-1.2089830713923524,-1.2089830713923524,-1.2089830713923524,-1.2089830713923524,-1.2089830713923524,-1.2089830713923524,-1.2089830713923524,-1.2089830713923524,-1.2089830713923524],[-1.068484410722369,-1.068484410722369,-1.068484410722369,-1.068484410722369,-1.068484410722369,-1.068484410722369,-1.068484410722369,-1.068484410722369,-1.068484410722369,-1.068484410722369,-1.068484410722369,-1.068484410722369,-1.068484410722369,-1.068484410722369,-1.068484410722369,-1.068484410722369,-1.068484410722369,-1.068484410722369,-1.068484410722369,-1.068484410722369],[-0.9279857500523857,-0.9279857500523857,-0.9279857500523857,-0.9279857500523857,-0.9279857500523857,-0.9279857500523857,-0.9279857500523857,-0.9279857500523857,-0.9279857500523857,-0.9279857500523857,-0.9279857500523857,-0.9279857500523857,-0.9279857500523857,-0.9279857500523857,-0.9279857500523857,-0.9279857500523857,-0.9279857500523857,-0.9279857500523857,-0.9279857500523857,-0.9279857500523857],[-0.7874870893824024,-0.7874870893824024,-0.7874870893824024,-0.7874870893824024,-0.7874870893824024,-0.7874870893824024,-0.7874870893824024,-0.7874870893824024,-0.7874870893824024,-0.7874870893824024,-0.7874870893824024,-0.7874870893824024,-0.7874870893824024,-0.7874870893824024,-0.7874870893824024,-0.7874870893824024,-0.7874870893824024,-0.7874870893824024,-0.7874870893824024,-0.7874870893824024],[-0.6469884287124191,-0.6469884287124191,-0.6469884287124191,-0.6469884287124191,-0.6469884287124191,-0.6469884287124191,-0.6469884287124191,-0.6469884287124191,-0.6469884287124191,-0.6469884287124191,-0.6469884287124191,-0.6469884287124191,-0.6469884287124191,-0.6469884287124191,-0.6469884287124191,-0.6469884287124191,-0.6469884287124191,-0.6469884287124191,-0.6469884287124191,-0.6469884287124191],[-0.5064897680424358,-0.5064897680424358,-0.5064897680424358,-0.5064897680424358,-0.5064897680424358,-0.5064897680424358,-0.5064897680424358,-0.5064897680424358,-0.5064897680424358,-0.5064897680424358,-0.5064897680424358,-0.5064897680424358,-0.5064897680424358,-0.5064897680424358,-0.5064897680424358,-0.5064897680424358,-0.5064897680424358,-0.5064897680424358,-0.5064897680424358,-0.5064897680424358],[-0.36599110737245266,-0.36599110737245266,-0.36599110737245266,-0.36599110737245266,-0.36599110737245266,-0.36599110737245266,-0.36599110737245266,-0.36599110737245266,-0.36599110737245266,-0.36599110737245266,-0.36599110737245266,-0.36599110737245266,-0.36599110737245266,-0.36599110737245266,-0.36599110737245266,-0.36599110737245266,-0.36599110737245266,-0.36599110737245266,-0.36599110737245266,-0.36599110737245266],[-0.22549244670246926,-0.22549244670246926,-0.22549244670246926,-0.22549244670246926,-0.22549244670246926,-0.22549244670246926,-0.22549244670246926,-0.22549244670246926,-0.22549244670246926,-0.22549244670246926,-0.22549244670246926,-0.22549244670246926,-0.22549244670246926,-0.22549244670246926,-0.22549244670246926,-0.22549244670246926,-0.22549244670246926,-0.22549244670246926,-0.22549244670246926,-0.22549244670246926],[-0.08499378603248586,-0.08499378603248586,-0.08499378603248586,-0.08499378603248586,-0.08499378603248586,-0.08499378603248586,-0.08499378603248586,-0.08499378603248586,-0.08499378603248586,-0.08499378603248586,-0.08499378603248586,-0.08499378603248586,-0.08499378603248586,-0.08499378603248586,-0.08499378603248586,-0.08499378603248586,-0.08499378603248586,-0.08499378603248586,-0.08499378603248586,-0.08499378603248586],[0.055504874637497315,0.055504874637497315,0.055504874637497315,0.055504874637497315,0.055504874637497315,0.055504874637497315,0.055504874637497315,0.055504874637497315,0.055504874637497315,0.055504874637497315,0.055504874637497315,0.055504874637497315,0.055504874637497315,0.055504874637497315,0.055504874637497315,0.055504874637497315,0.055504874637497315,0.055504874637497315,0.055504874637497315,0.055504874637497315],[0.1960035353074805,0.1960035353074805,0.1960035353074805,0.1960035353074805,0.1960035353074805,0.1960035353074805,0.1960035353074805,0.1960035353074805,0.1960035353074805,0.1960035353074805,0.1960035353074805,0.1960035353074805,0.1960035353074805,0.1960035353074805,0.1960035353074805,0.1960035353074805,0.1960035353074805,0.1960035353074805,0.1960035353074805,0.1960035353074805],[0.3365021959774639,0.3365021959774639,0.3365021959774639,0.3365021959774639,0.3365021959774639,0.3365021959774639,0.3365021959774639,0.3365021959774639,0.3365021959774639,0.3365021959774639,0.3365021959774639,0.3365021959774639,0.3365021959774639,0.3365021959774639,0.3365021959774639,0.3365021959774639,0.3365021959774639,0.3365021959774639,0.3365021959774639,0.3365021959774639],[0.4770008566474473,0.4770008566474473,0.4770008566474473,0.4770008566474473,0.4770008566474473,0.4770008566474473,0.4770008566474473,0.4770008566474473,0.4770008566474473,0.4770008566474473,0.4770008566474473,0.4770008566474473,0.4770008566474473,0.4770008566474473,0.4770008566474473,0.4770008566474473,0.4770008566474473,0.4770008566474473,0.4770008566474473,0.4770008566474473],[0.6174995173174305,0.6174995173174305,0.6174995173174305,0.6174995173174305,0.6174995173174305,0.6174995173174305,0.6174995173174305,0.6174995173174305,0.6174995173174305,0.6174995173174305,0.6174995173174305,0.6174995173174305,0.6174995173174305,0.6174995173174305,0.6174995173174305,0.6174995173174305,0.6174995173174305,0.6174995173174305,0.6174995173174305,0.6174995173174305],[0.7579981779874136,0.7579981779874136,0.7579981779874136,0.7579981779874136,0.7579981779874136,0.7579981779874136,0.7579981779874136,0.7579981779874136,0.7579981779874136,0.7579981779874136,0.7579981779874136,0.7579981779874136,0.7579981779874136,0.7579981779874136,0.7579981779874136,0.7579981779874136,0.7579981779874136,0.7579981779874136,0.7579981779874136,0.7579981779874136],[0.8984968386573968,0.8984968386573968,0.8984968386573968,0.8984968386573968,0.8984968386573968,0.8984968386573968,0.8984968386573968,0.8984968386573968,0.8984968386573968,0.8984968386573968,0.8984968386573968,0.8984968386573968,0.8984968386573968,0.8984968386573968,0.8984968386573968,0.8984968386573968,0.8984968386573968,0.8984968386573968,0.8984968386573968,0.8984968386573968],[1.0389954993273802,1.0389954993273802,1.0389954993273802,1.0389954993273802,1.0389954993273802,1.0389954993273802,1.0389954993273802,1.0389954993273802,1.0389954993273802,1.0389954993273802,1.0389954993273802,1.0389954993273802,1.0389954993273802,1.0389954993273802,1.0389954993273802,1.0389954993273802,1.0389954993273802,1.0389954993273802,1.0389954993273802,1.0389954993273802]],\"z\":[[-268.658119236831,-247.82450103994776,-226.99088284306453,-206.1572646461813,-185.32364644929805,-164.49002825241482,-143.6564100555316,-122.82279185864837,-101.98917366176514,-81.1555554648819,-60.32193726799867,-39.48831907111544,-18.65470087423224,2.178917322650996,23.012535519534225,43.84615371641746,64.6797719133007,85.5133901101839,106.34700830706714,127.18062650395038],[-263.9300376257809,-243.09641942889772,-222.2628012320145,-201.42918303513125,-180.59556483824804,-159.76194664136477,-138.92832844448156,-118.09471024759834,-97.2610920507151,-76.42747385383188,-55.59385565694864,-34.76023746006541,-13.92661926318221,6.906998933701026,27.740617130584255,48.57423532746749,69.40785352435073,90.24147172123394,111.07508991811717,131.90870811500042],[-259.2019560147309,-238.3683378178477,-217.53471962096447,-196.70110142408123,-175.867483227198,-155.03386503031476,-134.20024683343155,-113.36662863654831,-92.53301043966508,-71.69939224278184,-50.86577404589861,-30.032155849015382,-9.198537652132181,11.635080544751055,32.468698741634284,53.30231693851752,74.13593513540076,94.96955333228397,115.8031715291672,136.63678972605044],[-254.4738744036809,-233.6402562067977,-212.80663800991445,-191.97301981303121,-171.13940161614798,-150.30578341926474,-129.47216522238153,-108.6385470254983,-87.80492882861506,-66.97131063173182,-46.13769243484859,-25.30407423796536,-4.4704560410821585,16.363162155801078,37.19678035268431,58.03039854956754,78.86401674645077,99.69763494333398,120.53125314021722,141.36487133710045],[-249.74579279263085,-228.91217459574764,-208.0785563988644,-187.24493820198117,-166.41132000509793,-145.5777018082147,-124.74408361133149,-103.91046541444825,-83.07684721756502,-62.24322902068179,-41.40961082379855,-20.575992626915323,0.2576255699678782,21.091243766851115,41.924861963734344,62.75848016061758,83.59209835750082,104.42571655438402,125.25933475126726,146.0929529481505],[-245.01771118158084,-224.18409298469763,-203.3504747878144,-182.51685659093116,-161.68323839404792,-140.84962019716468,-120.01600200028146,-99.18238380339822,-78.34876560651499,-57.515147409631766,-36.68152921274853,-15.847911015865295,4.985707181017904,25.81932537790114,46.65294357478437,67.48656177166761,88.32017996855085,109.15379816543405,129.98741636231728,150.8210345592005],[-240.2896295705308,-219.45601137364758,-198.62239317676435,-177.7887749798811,-156.95515678299788,-136.12153858611464,-115.28792038923143,-94.4543021923482,-73.62068399546496,-52.787065798581736,-31.9534476016985,-11.119829404815265,9.713788792067934,30.54740698895117,51.3810251858344,72.21464338271764,93.04826157960088,113.88187977648408,134.71549797336732,155.54911617025056],[-235.56154795948078,-214.72792976259757,-193.89431156571433,-173.0606933688311,-152.22707517194786,-131.39345697506462,-110.5598387781814,-89.72622058129816,-68.89260238441493,-48.058984187531706,-27.22536599064847,-6.391747793765235,14.441870403117964,35.2754886000012,56.10910679688443,76.94272499376767,97.7763431906509,118.60996138753411,139.44357958441734,160.27719778130057],[-230.83346634843073,-209.99984815154752,-189.1662299546643,-168.33261175778105,-147.49899356089782,-126.66537536401458,-105.83175716713137,-84.99813897024814,-64.1645207733649,-43.33090257648168,-22.49728437959844,-1.6636661827152093,19.16995201416799,40.003570211051226,60.837188407934455,81.6708066048177,102.50442480170094,123.33804299858414,144.17166119546738,165.00527939235062],[-226.10538473738072,-205.2717665404975,-184.43814834361427,-163.60453014673104,-142.7709119498478,-121.93729375296456,-101.10367555608136,-80.27005735919812,-59.43643916231488,-38.60282096543165,-17.769202768548418,3.064415428334817,23.898033625218016,44.731651822101256,65.56527001898448,86.39888821586771,107.23250641275095,128.06612460963416,148.8997428065174,169.73336100340063],[-221.37730312633067,-200.54368492944747,-179.71006673256423,-158.876448535681,-138.04283033879776,-117.20921214191452,-96.37559394503131,-75.54197574814808,-54.70835755126485,-33.87473935438162,-13.041121157498383,7.79249703938485,28.62611523626805,49.459733433151285,70.29335163003452,91.12696982691776,111.960588023801,132.7942062206842,153.62782441756744,174.46144261445068],[-216.64922151528066,-195.81560331839745,-174.9819851215142,-154.14836692463098,-133.31474872774774,-112.48113053086449,-91.64751233398128,-70.81389413709805,-49.98027594021481,-29.146657743331584,-8.31303954644835,12.520578650434883,33.35419684731808,54.187815044201315,75.02143324108455,95.85505143796779,116.68866963485102,137.52228783173422,158.35590602861745,179.1895242255007],[-211.9211399042306,-191.0875217073474,-170.25390351046417,-149.42028531358093,-128.5866671166977,-107.75304891981447,-86.91943072293127,-66.08581252604803,-45.25219432916479,-24.418576132281558,-3.5849579353983243,17.248660261484908,38.08227845836811,58.915896655251345,79.74951485213457,100.5831330490178,121.41675124590104,142.25036944278426,163.0839876396675,183.91760583655073],[-207.1930582931806,-186.3594400962974,-165.52582189941415,-144.69220370253092,-123.85858550564768,-103.02496730876445,-82.19134911188124,-61.357730914998,-40.524112718114765,-19.690494521231535,1.143123675651701,21.976741872534934,42.81036006941813,63.64397826630137,84.4775964631846,105.31121466006783,126.14483285695107,146.97845105383428,167.8120692507175,188.64568744760075],[-202.46497668213055,-181.63135848524735,-160.7977402883641,-139.96412209148087,-119.13050389459765,-98.29688569771442,-77.46326750083121,-56.629649303947964,-35.79603110706473,-14.9624129101815,5.871205286701734,26.704823483584967,47.53844168046817,68.3720598773514,89.20567807423463,110.03929627111786,130.8729144680011,151.70653266488432,172.54015086176756,193.3737690586508],[-197.73689507108054,-176.90327687419733,-156.0696586773141,-135.23604048043086,-114.40242228354762,-93.56880408666439,-72.73518588978118,-51.901567692897935,-31.0679494960147,-10.234331299131469,10.599286897751766,31.432905094634997,52.2665232915182,73.10014148840143,93.93375968528466,114.76737788216789,135.60099607905113,156.43461427593434,177.26823247281757,198.1018506697008],[-193.0088134600305,-172.1751952631473,-151.34157706626405,-130.50795886938081,-109.67434067249759,-88.84072247561436,-68.00710427873115,-47.17348608184791,-26.339867884964672,-5.506249688081443,15.327368508801792,36.160986705685026,56.99460490256823,77.82822309945146,98.66184129633469,119.49545949321792,140.32907769010117,161.16269588698438,181.99631408386762,202.82993228075085],[-188.28073184898048,-167.44711365209727,-146.61349545521404,-125.7798772583308,-104.94625906144756,-84.11264086456433,-63.27902266768112,-42.44540447079788,-21.611786273914646,-0.7781680770314168,20.05545011985182,40.88906831673505,61.72268651361825,82.55630471050148,103.38992290738472,124.22354110426795,145.0571593011512,165.8907774980344,186.72439569491763,207.55801389180087],[-183.55265023793046,-162.71903204104726,-141.88541384416402,-121.05179564728077,-100.21817745039753,-79.3845592535143,-58.55094105663109,-37.71732285974785,-16.88370466286462,3.9499135340186093,24.783531730901842,45.61714992778508,66.45076812466827,87.28438632155151,108.11800451843474,128.95162271531797,149.7852409122012,170.6188591090844,191.45247730596765,212.28609550285088],[-178.82456862688042,-157.9909504299972,-137.15733223311398,-116.32371403623074,-95.4900958393475,-74.65647764246427,-53.82285944558106,-32.98924124869782,-12.155623051814587,8.677995145068643,29.51161334195188,50.34523153883511,71.1788497357183,92.01246793260154,112.84608612948477,133.679704326368,154.51332252325125,175.34694072013446,196.1805589170177,217.01417711390093]],\"type\":\"surface\"}],                        {\"scene\":{\"xaxis\":{\"title\":{\"text\":\"Feature 1\"}},\"yaxis\":{\"title\":{\"text\":\"Feature 2\"}},\"zaxis\":{\"title\":{\"text\":\"Predicted Value\"}}},\"title\":{\"text\":\"Fitted Plane in 3D\"},\"template\":{\"data\":{\"histogram2dcontour\":[{\"type\":\"histogram2dcontour\",\"colorbar\":{\"outlinewidth\":0,\"ticks\":\"\"},\"colorscale\":[[0.0,\"#0d0887\"],[0.1111111111111111,\"#46039f\"],[0.2222222222222222,\"#7201a8\"],[0.3333333333333333,\"#9c179e\"],[0.4444444444444444,\"#bd3786\"],[0.5555555555555556,\"#d8576b\"],[0.6666666666666666,\"#ed7953\"],[0.7777777777777778,\"#fb9f3a\"],[0.8888888888888888,\"#fdca26\"],[1.0,\"#f0f921\"]]}],\"choropleth\":[{\"type\":\"choropleth\",\"colorbar\":{\"outlinewidth\":0,\"ticks\":\"\"}}],\"histogram2d\":[{\"type\":\"histogram2d\",\"colorbar\":{\"outlinewidth\":0,\"ticks\":\"\"},\"colorscale\":[[0.0,\"#0d0887\"],[0.1111111111111111,\"#46039f\"],[0.2222222222222222,\"#7201a8\"],[0.3333333333333333,\"#9c179e\"],[0.4444444444444444,\"#bd3786\"],[0.5555555555555556,\"#d8576b\"],[0.6666666666666666,\"#ed7953\"],[0.7777777777777778,\"#fb9f3a\"],[0.8888888888888888,\"#fdca26\"],[1.0,\"#f0f921\"]]}],\"heatmap\":[{\"type\":\"heatmap\",\"colorbar\":{\"outlinewidth\":0,\"ticks\":\"\"},\"colorscale\":[[0.0,\"#0d0887\"],[0.1111111111111111,\"#46039f\"],[0.2222222222222222,\"#7201a8\"],[0.3333333333333333,\"#9c179e\"],[0.4444444444444444,\"#bd3786\"],[0.5555555555555556,\"#d8576b\"],[0.6666666666666666,\"#ed7953\"],[0.7777777777777778,\"#fb9f3a\"],[0.8888888888888888,\"#fdca26\"],[1.0,\"#f0f921\"]]}],\"heatmapgl\":[{\"type\":\"heatmapgl\",\"colorbar\":{\"outlinewidth\":0,\"ticks\":\"\"},\"colorscale\":[[0.0,\"#0d0887\"],[0.1111111111111111,\"#46039f\"],[0.2222222222222222,\"#7201a8\"],[0.3333333333333333,\"#9c179e\"],[0.4444444444444444,\"#bd3786\"],[0.5555555555555556,\"#d8576b\"],[0.6666666666666666,\"#ed7953\"],[0.7777777777777778,\"#fb9f3a\"],[0.8888888888888888,\"#fdca26\"],[1.0,\"#f0f921\"]]}],\"contourcarpet\":[{\"type\":\"contourcarpet\",\"colorbar\":{\"outlinewidth\":0,\"ticks\":\"\"}}],\"contour\":[{\"type\":\"contour\",\"colorbar\":{\"outlinewidth\":0,\"ticks\":\"\"},\"colorscale\":[[0.0,\"#0d0887\"],[0.1111111111111111,\"#46039f\"],[0.2222222222222222,\"#7201a8\"],[0.3333333333333333,\"#9c179e\"],[0.4444444444444444,\"#bd3786\"],[0.5555555555555556,\"#d8576b\"],[0.6666666666666666,\"#ed7953\"],[0.7777777777777778,\"#fb9f3a\"],[0.8888888888888888,\"#fdca26\"],[1.0,\"#f0f921\"]]}],\"surface\":[{\"type\":\"surface\",\"colorbar\":{\"outlinewidth\":0,\"ticks\":\"\"},\"colorscale\":[[0.0,\"#0d0887\"],[0.1111111111111111,\"#46039f\"],[0.2222222222222222,\"#7201a8\"],[0.3333333333333333,\"#9c179e\"],[0.4444444444444444,\"#bd3786\"],[0.5555555555555556,\"#d8576b\"],[0.6666666666666666,\"#ed7953\"],[0.7777777777777778,\"#fb9f3a\"],[0.8888888888888888,\"#fdca26\"],[1.0,\"#f0f921\"]]}],\"mesh3d\":[{\"type\":\"mesh3d\",\"colorbar\":{\"outlinewidth\":0,\"ticks\":\"\"}}],\"scatter\":[{\"fillpattern\":{\"fillmode\":\"overlay\",\"size\":10,\"solidity\":0.2},\"type\":\"scatter\"}],\"parcoords\":[{\"type\":\"parcoords\",\"line\":{\"colorbar\":{\"outlinewidth\":0,\"ticks\":\"\"}}}],\"scatterpolargl\":[{\"type\":\"scatterpolargl\",\"marker\":{\"colorbar\":{\"outlinewidth\":0,\"ticks\":\"\"}}}],\"bar\":[{\"error_x\":{\"color\":\"#2a3f5f\"},\"error_y\":{\"color\":\"#2a3f5f\"},\"marker\":{\"line\":{\"color\":\"#E5ECF6\",\"width\":0.5},\"pattern\":{\"fillmode\":\"overlay\",\"size\":10,\"solidity\":0.2}},\"type\":\"bar\"}],\"scattergeo\":[{\"type\":\"scattergeo\",\"marker\":{\"colorbar\":{\"outlinewidth\":0,\"ticks\":\"\"}}}],\"scatterpolar\":[{\"type\":\"scatterpolar\",\"marker\":{\"colorbar\":{\"outlinewidth\":0,\"ticks\":\"\"}}}],\"histogram\":[{\"marker\":{\"pattern\":{\"fillmode\":\"overlay\",\"size\":10,\"solidity\":0.2}},\"type\":\"histogram\"}],\"scattergl\":[{\"type\":\"scattergl\",\"marker\":{\"colorbar\":{\"outlinewidth\":0,\"ticks\":\"\"}}}],\"scatter3d\":[{\"type\":\"scatter3d\",\"line\":{\"colorbar\":{\"outlinewidth\":0,\"ticks\":\"\"}},\"marker\":{\"colorbar\":{\"outlinewidth\":0,\"ticks\":\"\"}}}],\"scattermapbox\":[{\"type\":\"scattermapbox\",\"marker\":{\"colorbar\":{\"outlinewidth\":0,\"ticks\":\"\"}}}],\"scatterternary\":[{\"type\":\"scatterternary\",\"marker\":{\"colorbar\":{\"outlinewidth\":0,\"ticks\":\"\"}}}],\"scattercarpet\":[{\"type\":\"scattercarpet\",\"marker\":{\"colorbar\":{\"outlinewidth\":0,\"ticks\":\"\"}}}],\"carpet\":[{\"aaxis\":{\"endlinecolor\":\"#2a3f5f\",\"gridcolor\":\"white\",\"linecolor\":\"white\",\"minorgridcolor\":\"white\",\"startlinecolor\":\"#2a3f5f\"},\"baxis\":{\"endlinecolor\":\"#2a3f5f\",\"gridcolor\":\"white\",\"linecolor\":\"white\",\"minorgridcolor\":\"white\",\"startlinecolor\":\"#2a3f5f\"},\"type\":\"carpet\"}],\"table\":[{\"cells\":{\"fill\":{\"color\":\"#EBF0F8\"},\"line\":{\"color\":\"white\"}},\"header\":{\"fill\":{\"color\":\"#C8D4E3\"},\"line\":{\"color\":\"white\"}},\"type\":\"table\"}],\"barpolar\":[{\"marker\":{\"line\":{\"color\":\"#E5ECF6\",\"width\":0.5},\"pattern\":{\"fillmode\":\"overlay\",\"size\":10,\"solidity\":0.2}},\"type\":\"barpolar\"}],\"pie\":[{\"automargin\":true,\"type\":\"pie\"}]},\"layout\":{\"autotypenumbers\":\"strict\",\"colorway\":[\"#636efa\",\"#EF553B\",\"#00cc96\",\"#ab63fa\",\"#FFA15A\",\"#19d3f3\",\"#FF6692\",\"#B6E880\",\"#FF97FF\",\"#FECB52\"],\"font\":{\"color\":\"#2a3f5f\"},\"hovermode\":\"closest\",\"hoverlabel\":{\"align\":\"left\"},\"paper_bgcolor\":\"white\",\"plot_bgcolor\":\"#E5ECF6\",\"polar\":{\"bgcolor\":\"#E5ECF6\",\"angularaxis\":{\"gridcolor\":\"white\",\"linecolor\":\"white\",\"ticks\":\"\"},\"radialaxis\":{\"gridcolor\":\"white\",\"linecolor\":\"white\",\"ticks\":\"\"}},\"ternary\":{\"bgcolor\":\"#E5ECF6\",\"aaxis\":{\"gridcolor\":\"white\",\"linecolor\":\"white\",\"ticks\":\"\"},\"baxis\":{\"gridcolor\":\"white\",\"linecolor\":\"white\",\"ticks\":\"\"},\"caxis\":{\"gridcolor\":\"white\",\"linecolor\":\"white\",\"ticks\":\"\"}},\"coloraxis\":{\"colorbar\":{\"outlinewidth\":0,\"ticks\":\"\"}},\"colorscale\":{\"sequential\":[[0.0,\"#0d0887\"],[0.1111111111111111,\"#46039f\"],[0.2222222222222222,\"#7201a8\"],[0.3333333333333333,\"#9c179e\"],[0.4444444444444444,\"#bd3786\"],[0.5555555555555556,\"#d8576b\"],[0.6666666666666666,\"#ed7953\"],[0.7777777777777778,\"#fb9f3a\"],[0.8888888888888888,\"#fdca26\"],[1.0,\"#f0f921\"]],\"sequentialminus\":[[0.0,\"#0d0887\"],[0.1111111111111111,\"#46039f\"],[0.2222222222222222,\"#7201a8\"],[0.3333333333333333,\"#9c179e\"],[0.4444444444444444,\"#bd3786\"],[0.5555555555555556,\"#d8576b\"],[0.6666666666666666,\"#ed7953\"],[0.7777777777777778,\"#fb9f3a\"],[0.8888888888888888,\"#fdca26\"],[1.0,\"#f0f921\"]],\"diverging\":[[0,\"#8e0152\"],[0.1,\"#c51b7d\"],[0.2,\"#de77ae\"],[0.3,\"#f1b6da\"],[0.4,\"#fde0ef\"],[0.5,\"#f7f7f7\"],[0.6,\"#e6f5d0\"],[0.7,\"#b8e186\"],[0.8,\"#7fbc41\"],[0.9,\"#4d9221\"],[1,\"#276419\"]]},\"xaxis\":{\"gridcolor\":\"white\",\"linecolor\":\"white\",\"ticks\":\"\",\"title\":{\"standoff\":15},\"zerolinecolor\":\"white\",\"automargin\":true,\"zerolinewidth\":2},\"yaxis\":{\"gridcolor\":\"white\",\"linecolor\":\"white\",\"ticks\":\"\",\"title\":{\"standoff\":15},\"zerolinecolor\":\"white\",\"automargin\":true,\"zerolinewidth\":2},\"scene\":{\"xaxis\":{\"backgroundcolor\":\"#E5ECF6\",\"gridcolor\":\"white\",\"linecolor\":\"white\",\"showbackground\":true,\"ticks\":\"\",\"zerolinecolor\":\"white\",\"gridwidth\":2},\"yaxis\":{\"backgroundcolor\":\"#E5ECF6\",\"gridcolor\":\"white\",\"linecolor\":\"white\",\"showbackground\":true,\"ticks\":\"\",\"zerolinecolor\":\"white\",\"gridwidth\":2},\"zaxis\":{\"backgroundcolor\":\"#E5ECF6\",\"gridcolor\":\"white\",\"linecolor\":\"white\",\"showbackground\":true,\"ticks\":\"\",\"zerolinecolor\":\"white\",\"gridwidth\":2}},\"shapedefaults\":{\"line\":{\"color\":\"#2a3f5f\"}},\"annotationdefaults\":{\"arrowcolor\":\"#2a3f5f\",\"arrowhead\":0,\"arrowwidth\":1},\"geo\":{\"bgcolor\":\"white\",\"landcolor\":\"#E5ECF6\",\"subunitcolor\":\"white\",\"showland\":true,\"showlakes\":true,\"lakecolor\":\"white\"},\"title\":{\"x\":0.05},\"mapbox\":{\"style\":\"light\"}}}},                        {\"responsive\": true}                    ).then(function(){\n",
              "                            \n",
              "var gd = document.getElementById('5dc21570-ac65-479b-a8f7-83dcfb071ac1');\n",
              "var x = new MutationObserver(function (mutations, observer) {{\n",
              "        var display = window.getComputedStyle(gd).display;\n",
              "        if (!display || display === 'none') {{\n",
              "            console.log([gd, 'removed!']);\n",
              "            Plotly.purge(gd);\n",
              "            observer.disconnect();\n",
              "        }}\n",
              "}});\n",
              "\n",
              "// Listen for the removal of the full notebook cells\n",
              "var notebookContainer = gd.closest('#notebook-container');\n",
              "if (notebookContainer) {{\n",
              "    x.observe(notebookContainer, {childList: true});\n",
              "}}\n",
              "\n",
              "// Listen for the clearing of the current output cell\n",
              "var outputEl = gd.closest('.output');\n",
              "if (outputEl) {{\n",
              "    x.observe(outputEl, {childList: true});\n",
              "}}\n",
              "\n",
              "                        })                };                            </script>        </div>\n",
              "</body>\n",
              "</html>"
            ]
          },
          "metadata": {}
        }
      ]
    },
    {
      "cell_type": "code",
      "source": [],
      "metadata": {
        "id": "6PmN2Jm2qDmC"
      },
      "execution_count": null,
      "outputs": []
    }
  ]
}